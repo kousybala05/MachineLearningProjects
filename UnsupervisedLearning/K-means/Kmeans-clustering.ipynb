{
 "cells": [
  {
   "cell_type": "code",
   "execution_count": 1,
   "id": "2104fd2f",
   "metadata": {},
   "outputs": [],
   "source": [
    "import pandas as pd"
   ]
  },
  {
   "cell_type": "code",
   "execution_count": 2,
   "id": "e9345d89",
   "metadata": {},
   "outputs": [],
   "source": [
    "import numpy as np"
   ]
  },
  {
   "cell_type": "code",
   "execution_count": 3,
   "id": "7d9b13fd",
   "metadata": {},
   "outputs": [],
   "source": [
    "import matplotlib.pyplot as plt\n",
    "import seaborn as sns"
   ]
  },
  {
   "cell_type": "code",
   "execution_count": 5,
   "id": "de1e820f",
   "metadata": {},
   "outputs": [],
   "source": [
    "df=pd.read_excel('Dataset/cust_data.xlsx')"
   ]
  },
  {
   "cell_type": "code",
   "execution_count": 5,
   "id": "210f9c42",
   "metadata": {},
   "outputs": [
    {
     "data": {
      "text/html": [
       "<div>\n",
       "<style scoped>\n",
       "    .dataframe tbody tr th:only-of-type {\n",
       "        vertical-align: middle;\n",
       "    }\n",
       "\n",
       "    .dataframe tbody tr th {\n",
       "        vertical-align: top;\n",
       "    }\n",
       "\n",
       "    .dataframe thead th {\n",
       "        text-align: right;\n",
       "    }\n",
       "</style>\n",
       "<table border=\"1\" class=\"dataframe\">\n",
       "  <thead>\n",
       "    <tr style=\"text-align: right;\">\n",
       "      <th></th>\n",
       "      <th>Cust_ID</th>\n",
       "      <th>Gender</th>\n",
       "      <th>Orders</th>\n",
       "      <th>Jordan</th>\n",
       "      <th>Gatorade</th>\n",
       "      <th>Samsung</th>\n",
       "      <th>Asus</th>\n",
       "      <th>Udis</th>\n",
       "      <th>Mondelez International</th>\n",
       "      <th>Wrangler</th>\n",
       "      <th>...</th>\n",
       "      <th>LG</th>\n",
       "      <th>Dior</th>\n",
       "      <th>Scabal</th>\n",
       "      <th>Tommy Hilfiger</th>\n",
       "      <th>Hollister</th>\n",
       "      <th>Forever 21</th>\n",
       "      <th>Colavita</th>\n",
       "      <th>Microsoft</th>\n",
       "      <th>Jiffy mix</th>\n",
       "      <th>Kraft</th>\n",
       "    </tr>\n",
       "  </thead>\n",
       "  <tbody>\n",
       "    <tr>\n",
       "      <th>0</th>\n",
       "      <td>1</td>\n",
       "      <td>M</td>\n",
       "      <td>7</td>\n",
       "      <td>0</td>\n",
       "      <td>0</td>\n",
       "      <td>0</td>\n",
       "      <td>0</td>\n",
       "      <td>0</td>\n",
       "      <td>0</td>\n",
       "      <td>0</td>\n",
       "      <td>...</td>\n",
       "      <td>0</td>\n",
       "      <td>0</td>\n",
       "      <td>0</td>\n",
       "      <td>0</td>\n",
       "      <td>0</td>\n",
       "      <td>0</td>\n",
       "      <td>0</td>\n",
       "      <td>0</td>\n",
       "      <td>0</td>\n",
       "      <td>0</td>\n",
       "    </tr>\n",
       "    <tr>\n",
       "      <th>1</th>\n",
       "      <td>2</td>\n",
       "      <td>F</td>\n",
       "      <td>0</td>\n",
       "      <td>0</td>\n",
       "      <td>1</td>\n",
       "      <td>0</td>\n",
       "      <td>0</td>\n",
       "      <td>0</td>\n",
       "      <td>0</td>\n",
       "      <td>0</td>\n",
       "      <td>...</td>\n",
       "      <td>0</td>\n",
       "      <td>1</td>\n",
       "      <td>0</td>\n",
       "      <td>0</td>\n",
       "      <td>0</td>\n",
       "      <td>0</td>\n",
       "      <td>0</td>\n",
       "      <td>0</td>\n",
       "      <td>0</td>\n",
       "      <td>0</td>\n",
       "    </tr>\n",
       "    <tr>\n",
       "      <th>2</th>\n",
       "      <td>3</td>\n",
       "      <td>M</td>\n",
       "      <td>7</td>\n",
       "      <td>0</td>\n",
       "      <td>1</td>\n",
       "      <td>0</td>\n",
       "      <td>0</td>\n",
       "      <td>0</td>\n",
       "      <td>0</td>\n",
       "      <td>0</td>\n",
       "      <td>...</td>\n",
       "      <td>0</td>\n",
       "      <td>0</td>\n",
       "      <td>0</td>\n",
       "      <td>0</td>\n",
       "      <td>0</td>\n",
       "      <td>0</td>\n",
       "      <td>0</td>\n",
       "      <td>1</td>\n",
       "      <td>0</td>\n",
       "      <td>0</td>\n",
       "    </tr>\n",
       "    <tr>\n",
       "      <th>3</th>\n",
       "      <td>4</td>\n",
       "      <td>F</td>\n",
       "      <td>0</td>\n",
       "      <td>0</td>\n",
       "      <td>0</td>\n",
       "      <td>0</td>\n",
       "      <td>0</td>\n",
       "      <td>0</td>\n",
       "      <td>0</td>\n",
       "      <td>0</td>\n",
       "      <td>...</td>\n",
       "      <td>0</td>\n",
       "      <td>0</td>\n",
       "      <td>0</td>\n",
       "      <td>0</td>\n",
       "      <td>0</td>\n",
       "      <td>0</td>\n",
       "      <td>0</td>\n",
       "      <td>0</td>\n",
       "      <td>0</td>\n",
       "      <td>0</td>\n",
       "    </tr>\n",
       "    <tr>\n",
       "      <th>4</th>\n",
       "      <td>5</td>\n",
       "      <td>NaN</td>\n",
       "      <td>10</td>\n",
       "      <td>0</td>\n",
       "      <td>0</td>\n",
       "      <td>0</td>\n",
       "      <td>0</td>\n",
       "      <td>0</td>\n",
       "      <td>0</td>\n",
       "      <td>0</td>\n",
       "      <td>...</td>\n",
       "      <td>0</td>\n",
       "      <td>0</td>\n",
       "      <td>2</td>\n",
       "      <td>0</td>\n",
       "      <td>0</td>\n",
       "      <td>0</td>\n",
       "      <td>0</td>\n",
       "      <td>0</td>\n",
       "      <td>1</td>\n",
       "      <td>1</td>\n",
       "    </tr>\n",
       "  </tbody>\n",
       "</table>\n",
       "<p>5 rows × 38 columns</p>\n",
       "</div>"
      ],
      "text/plain": [
       "   Cust_ID Gender  Orders  Jordan  Gatorade  Samsung  Asus  Udis  \\\n",
       "0        1      M       7       0         0        0     0     0   \n",
       "1        2      F       0       0         1        0     0     0   \n",
       "2        3      M       7       0         1        0     0     0   \n",
       "3        4      F       0       0         0        0     0     0   \n",
       "4        5    NaN      10       0         0        0     0     0   \n",
       "\n",
       "   Mondelez International  Wrangler  ...  LG  Dior  Scabal  Tommy Hilfiger  \\\n",
       "0                       0         0  ...   0     0       0               0   \n",
       "1                       0         0  ...   0     1       0               0   \n",
       "2                       0         0  ...   0     0       0               0   \n",
       "3                       0         0  ...   0     0       0               0   \n",
       "4                       0         0  ...   0     0       2               0   \n",
       "\n",
       "   Hollister  Forever 21  Colavita  Microsoft  Jiffy mix  Kraft  \n",
       "0          0           0         0          0          0      0  \n",
       "1          0           0         0          0          0      0  \n",
       "2          0           0         0          1          0      0  \n",
       "3          0           0         0          0          0      0  \n",
       "4          0           0         0          0          1      1  \n",
       "\n",
       "[5 rows x 38 columns]"
      ]
     },
     "execution_count": 5,
     "metadata": {},
     "output_type": "execute_result"
    }
   ],
   "source": [
    "df.head()"
   ]
  },
  {
   "cell_type": "code",
   "execution_count": 6,
   "id": "d57958a8",
   "metadata": {},
   "outputs": [
    {
     "data": {
      "text/plain": [
       "(30000, 38)"
      ]
     },
     "execution_count": 6,
     "metadata": {},
     "output_type": "execute_result"
    }
   ],
   "source": [
    "df.shape"
   ]
  },
  {
   "cell_type": "code",
   "execution_count": 7,
   "id": "d9f0a449",
   "metadata": {},
   "outputs": [
    {
     "data": {
      "text/plain": [
       "Cust_ID                      0\n",
       "Gender                    2724\n",
       "Orders                       0\n",
       "Jordan                       0\n",
       "Gatorade                     0\n",
       "Samsung                      0\n",
       "Asus                         0\n",
       "Udis                         0\n",
       "Mondelez International       0\n",
       "Wrangler                     0\n",
       "Vans                         0\n",
       "Fila                         0\n",
       "Brooks                       0\n",
       "H&M                          0\n",
       "Dairy Queen                  0\n",
       "Fendi                        0\n",
       "Hewlett Packard              0\n",
       "Pladis                       0\n",
       "Asics                        0\n",
       "Siemens                      0\n",
       "J.M. Smucker                 0\n",
       "Pop Chips                    0\n",
       "Juniper                      0\n",
       "Huawei                       0\n",
       "Compaq                       0\n",
       "IBM                          0\n",
       "Burberry                     0\n",
       "Mi                           0\n",
       "LG                           0\n",
       "Dior                         0\n",
       "Scabal                       0\n",
       "Tommy Hilfiger               0\n",
       "Hollister                    0\n",
       "Forever 21                   0\n",
       "Colavita                     0\n",
       "Microsoft                    0\n",
       "Jiffy mix                    0\n",
       "Kraft                        0\n",
       "dtype: int64"
      ]
     },
     "execution_count": 7,
     "metadata": {},
     "output_type": "execute_result"
    }
   ],
   "source": [
    "df.isnull().sum()"
   ]
  },
  {
   "cell_type": "code",
   "execution_count": 8,
   "id": "ffac40c7",
   "metadata": {},
   "outputs": [
    {
     "name": "stdout",
     "output_type": "stream",
     "text": [
      "<class 'pandas.core.frame.DataFrame'>\n",
      "RangeIndex: 30000 entries, 0 to 29999\n",
      "Data columns (total 38 columns):\n",
      " #   Column                  Non-Null Count  Dtype \n",
      "---  ------                  --------------  ----- \n",
      " 0   Cust_ID                 30000 non-null  int64 \n",
      " 1   Gender                  27276 non-null  object\n",
      " 2   Orders                  30000 non-null  int64 \n",
      " 3   Jordan                  30000 non-null  int64 \n",
      " 4   Gatorade                30000 non-null  int64 \n",
      " 5   Samsung                 30000 non-null  int64 \n",
      " 6   Asus                    30000 non-null  int64 \n",
      " 7   Udis                    30000 non-null  int64 \n",
      " 8   Mondelez International  30000 non-null  int64 \n",
      " 9   Wrangler                30000 non-null  int64 \n",
      " 10  Vans                    30000 non-null  int64 \n",
      " 11  Fila                    30000 non-null  int64 \n",
      " 12  Brooks                  30000 non-null  int64 \n",
      " 13  H&M                     30000 non-null  int64 \n",
      " 14  Dairy Queen             30000 non-null  int64 \n",
      " 15  Fendi                   30000 non-null  int64 \n",
      " 16  Hewlett Packard         30000 non-null  int64 \n",
      " 17  Pladis                  30000 non-null  int64 \n",
      " 18  Asics                   30000 non-null  int64 \n",
      " 19  Siemens                 30000 non-null  int64 \n",
      " 20  J.M. Smucker            30000 non-null  int64 \n",
      " 21  Pop Chips               30000 non-null  int64 \n",
      " 22  Juniper                 30000 non-null  int64 \n",
      " 23  Huawei                  30000 non-null  int64 \n",
      " 24  Compaq                  30000 non-null  int64 \n",
      " 25  IBM                     30000 non-null  int64 \n",
      " 26  Burberry                30000 non-null  int64 \n",
      " 27  Mi                      30000 non-null  int64 \n",
      " 28  LG                      30000 non-null  int64 \n",
      " 29  Dior                    30000 non-null  int64 \n",
      " 30  Scabal                  30000 non-null  int64 \n",
      " 31  Tommy Hilfiger          30000 non-null  int64 \n",
      " 32  Hollister               30000 non-null  int64 \n",
      " 33  Forever 21              30000 non-null  int64 \n",
      " 34  Colavita                30000 non-null  int64 \n",
      " 35  Microsoft               30000 non-null  int64 \n",
      " 36  Jiffy mix               30000 non-null  int64 \n",
      " 37  Kraft                   30000 non-null  int64 \n",
      "dtypes: int64(37), object(1)\n",
      "memory usage: 8.7+ MB\n"
     ]
    }
   ],
   "source": [
    "df.info()"
   ]
  },
  {
   "cell_type": "code",
   "execution_count": 9,
   "id": "02578e34",
   "metadata": {},
   "outputs": [
    {
     "data": {
      "text/plain": [
       "(30000, 38)"
      ]
     },
     "execution_count": 9,
     "metadata": {},
     "output_type": "execute_result"
    }
   ],
   "source": [
    "df.shape"
   ]
  },
  {
   "cell_type": "code",
   "execution_count": 10,
   "id": "5ddcec7e",
   "metadata": {},
   "outputs": [
    {
     "data": {
      "text/plain": [
       "Text(0.5, 1.0, 'Distribution of orders')"
      ]
     },
     "execution_count": 10,
     "metadata": {},
     "output_type": "execute_result"
    },
    {
     "data": {
      "image/png": "[encoded data removed]",
      "text/plain": [
       "<Figure size 720x432 with 1 Axes>"
      ]
     },
     "metadata": {
      "needs_background": "light"
     },
     "output_type": "display_data"
    }
   ],
   "source": [
    "## distribution of orders made by customers\n",
    "plt.subplots(figsize=(10,6))\n",
    "sns.countplot(x='Orders',data=df)\n",
    "plt.xlabel('Orders')\n",
    "plt.ylabel('Count of the orders')\n",
    "plt.title('Distribution of orders')"
   ]
  },
  {
   "cell_type": "code",
   "execution_count": 11,
   "id": "058109b3",
   "metadata": {},
   "outputs": [
    {
     "data": {
      "text/plain": [
       "<AxesSubplot:xlabel='Gender', ylabel='count'>"
      ]
     },
     "execution_count": 11,
     "metadata": {},
     "output_type": "execute_result"
    },
    {
     "data": {
      "image/png": "[encoded data removed]",
      "text/plain": [
       "<Figure size 576x360 with 1 Axes>"
      ]
     },
     "metadata": {
      "needs_background": "light"
     },
     "output_type": "display_data"
    }
   ],
   "source": [
    "plt.subplots(figsize=(8,5))\n",
    "sns.countplot(x='Gender',data=df)"
   ]
  },
  {
   "cell_type": "code",
   "execution_count": 12,
   "id": "0be4345d",
   "metadata": {},
   "outputs": [
    {
     "data": {
      "image/png": "[encoded data removed]",
      "text/plain": [
       "<Figure size 360x360 with 1 Axes>"
      ]
     },
     "metadata": {
      "needs_background": "light"
     },
     "output_type": "display_data"
    }
   ],
   "source": [
    "plt.figure(figsize=(5,5))\n",
    "total = float(len(df))\n",
    "ax=sns.countplot(x=\"Gender\",data=df)\n",
    "plt.title('Distribution of gender', fontsize=20)\n",
    "for p in ax.patches:\n",
    "    percentage = '{:.1f}%'.format(100 * p.get_height()/total)\n",
    "    x = p.get_x() + p.get_width()-0.4\n",
    "    y = p.get_height()\n",
    "    ax.annotate(percentage, (x, y),ha='center')\n",
    "plt.show()"
   ]
  },
  {
   "cell_type": "code",
   "execution_count": 13,
   "id": "d38dc3d2",
   "metadata": {
    "scrolled": true
   },
   "outputs": [
    {
     "data": {
      "text/plain": [
       "count    30000.000000\n",
       "mean         4.169800\n",
       "std          3.590311\n",
       "min          0.000000\n",
       "25%          1.000000\n",
       "50%          4.000000\n",
       "75%          7.000000\n",
       "max         12.000000\n",
       "Name: Orders, dtype: float64"
      ]
     },
     "execution_count": 13,
     "metadata": {},
     "output_type": "execute_result"
    }
   ],
   "source": [
    "df['Orders'].describe()"
   ]
  },
  {
   "cell_type": "code",
   "execution_count": 14,
   "id": "8aac809a",
   "metadata": {},
   "outputs": [
    {
     "data": {
      "text/html": [
       "<div>\n",
       "<style scoped>\n",
       "    .dataframe tbody tr th:only-of-type {\n",
       "        vertical-align: middle;\n",
       "    }\n",
       "\n",
       "    .dataframe tbody tr th {\n",
       "        vertical-align: top;\n",
       "    }\n",
       "\n",
       "    .dataframe thead th {\n",
       "        text-align: right;\n",
       "    }\n",
       "</style>\n",
       "<table border=\"1\" class=\"dataframe\">\n",
       "  <thead>\n",
       "    <tr style=\"text-align: right;\">\n",
       "      <th></th>\n",
       "      <th>Gender</th>\n",
       "    </tr>\n",
       "  </thead>\n",
       "  <tbody>\n",
       "    <tr>\n",
       "      <th>count</th>\n",
       "      <td>27276</td>\n",
       "    </tr>\n",
       "    <tr>\n",
       "      <th>unique</th>\n",
       "      <td>2</td>\n",
       "    </tr>\n",
       "    <tr>\n",
       "      <th>top</th>\n",
       "      <td>F</td>\n",
       "    </tr>\n",
       "    <tr>\n",
       "      <th>freq</th>\n",
       "      <td>22054</td>\n",
       "    </tr>\n",
       "  </tbody>\n",
       "</table>\n",
       "</div>"
      ],
      "text/plain": [
       "       Gender\n",
       "count   27276\n",
       "unique      2\n",
       "top         F\n",
       "freq    22054"
      ]
     },
     "execution_count": 14,
     "metadata": {},
     "output_type": "execute_result"
    }
   ],
   "source": [
    "df.describe(include='object')"
   ]
  },
  {
   "cell_type": "code",
   "execution_count": 15,
   "id": "a267df37",
   "metadata": {},
   "outputs": [],
   "source": [
    "total=df.isnull().sum()"
   ]
  },
  {
   "cell_type": "code",
   "execution_count": 16,
   "id": "b1d6ed41",
   "metadata": {},
   "outputs": [
    {
     "data": {
      "text/plain": [
       "Cust_ID                      0\n",
       "Gender                    2724\n",
       "Orders                       0\n",
       "Jordan                       0\n",
       "Gatorade                     0\n",
       "Samsung                      0\n",
       "Asus                         0\n",
       "Udis                         0\n",
       "Mondelez International       0\n",
       "Wrangler                     0\n",
       "Vans                         0\n",
       "Fila                         0\n",
       "Brooks                       0\n",
       "H&M                          0\n",
       "Dairy Queen                  0\n",
       "Fendi                        0\n",
       "Hewlett Packard              0\n",
       "Pladis                       0\n",
       "Asics                        0\n",
       "Siemens                      0\n",
       "J.M. Smucker                 0\n",
       "Pop Chips                    0\n",
       "Juniper                      0\n",
       "Huawei                       0\n",
       "Compaq                       0\n",
       "IBM                          0\n",
       "Burberry                     0\n",
       "Mi                           0\n",
       "LG                           0\n",
       "Dior                         0\n",
       "Scabal                       0\n",
       "Tommy Hilfiger               0\n",
       "Hollister                    0\n",
       "Forever 21                   0\n",
       "Colavita                     0\n",
       "Microsoft                    0\n",
       "Jiffy mix                    0\n",
       "Kraft                        0\n",
       "dtype: int64"
      ]
     },
     "execution_count": 16,
     "metadata": {},
     "output_type": "execute_result"
    }
   ],
   "source": [
    "total"
   ]
  },
  {
   "cell_type": "code",
   "execution_count": 18,
   "id": "3f41c327",
   "metadata": {},
   "outputs": [
    {
     "data": {
      "text/html": [
       "<div>\n",
       "<style scoped>\n",
       "    .dataframe tbody tr th:only-of-type {\n",
       "        vertical-align: middle;\n",
       "    }\n",
       "\n",
       "    .dataframe tbody tr th {\n",
       "        vertical-align: top;\n",
       "    }\n",
       "\n",
       "    .dataframe thead th {\n",
       "        text-align: right;\n",
       "    }\n",
       "</style>\n",
       "<table border=\"1\" class=\"dataframe\">\n",
       "  <thead>\n",
       "    <tr style=\"text-align: right;\">\n",
       "      <th></th>\n",
       "      <th>number_missing</th>\n",
       "      <th>percent_missing</th>\n",
       "    </tr>\n",
       "  </thead>\n",
       "  <tbody>\n",
       "    <tr>\n",
       "      <th>Cust_ID</th>\n",
       "      <td>0</td>\n",
       "      <td>0.00</td>\n",
       "    </tr>\n",
       "    <tr>\n",
       "      <th>Gender</th>\n",
       "      <td>2724</td>\n",
       "      <td>9.08</td>\n",
       "    </tr>\n",
       "    <tr>\n",
       "      <th>Orders</th>\n",
       "      <td>0</td>\n",
       "      <td>0.00</td>\n",
       "    </tr>\n",
       "    <tr>\n",
       "      <th>Jordan</th>\n",
       "      <td>0</td>\n",
       "      <td>0.00</td>\n",
       "    </tr>\n",
       "    <tr>\n",
       "      <th>Gatorade</th>\n",
       "      <td>0</td>\n",
       "      <td>0.00</td>\n",
       "    </tr>\n",
       "    <tr>\n",
       "      <th>Samsung</th>\n",
       "      <td>0</td>\n",
       "      <td>0.00</td>\n",
       "    </tr>\n",
       "    <tr>\n",
       "      <th>Asus</th>\n",
       "      <td>0</td>\n",
       "      <td>0.00</td>\n",
       "    </tr>\n",
       "    <tr>\n",
       "      <th>Udis</th>\n",
       "      <td>0</td>\n",
       "      <td>0.00</td>\n",
       "    </tr>\n",
       "    <tr>\n",
       "      <th>Mondelez International</th>\n",
       "      <td>0</td>\n",
       "      <td>0.00</td>\n",
       "    </tr>\n",
       "    <tr>\n",
       "      <th>Wrangler</th>\n",
       "      <td>0</td>\n",
       "      <td>0.00</td>\n",
       "    </tr>\n",
       "    <tr>\n",
       "      <th>Vans</th>\n",
       "      <td>0</td>\n",
       "      <td>0.00</td>\n",
       "    </tr>\n",
       "    <tr>\n",
       "      <th>Fila</th>\n",
       "      <td>0</td>\n",
       "      <td>0.00</td>\n",
       "    </tr>\n",
       "    <tr>\n",
       "      <th>Brooks</th>\n",
       "      <td>0</td>\n",
       "      <td>0.00</td>\n",
       "    </tr>\n",
       "    <tr>\n",
       "      <th>H&amp;M</th>\n",
       "      <td>0</td>\n",
       "      <td>0.00</td>\n",
       "    </tr>\n",
       "    <tr>\n",
       "      <th>Dairy Queen</th>\n",
       "      <td>0</td>\n",
       "      <td>0.00</td>\n",
       "    </tr>\n",
       "    <tr>\n",
       "      <th>Fendi</th>\n",
       "      <td>0</td>\n",
       "      <td>0.00</td>\n",
       "    </tr>\n",
       "    <tr>\n",
       "      <th>Hewlett Packard</th>\n",
       "      <td>0</td>\n",
       "      <td>0.00</td>\n",
       "    </tr>\n",
       "    <tr>\n",
       "      <th>Pladis</th>\n",
       "      <td>0</td>\n",
       "      <td>0.00</td>\n",
       "    </tr>\n",
       "    <tr>\n",
       "      <th>Asics</th>\n",
       "      <td>0</td>\n",
       "      <td>0.00</td>\n",
       "    </tr>\n",
       "    <tr>\n",
       "      <th>Siemens</th>\n",
       "      <td>0</td>\n",
       "      <td>0.00</td>\n",
       "    </tr>\n",
       "    <tr>\n",
       "      <th>J.M. Smucker</th>\n",
       "      <td>0</td>\n",
       "      <td>0.00</td>\n",
       "    </tr>\n",
       "    <tr>\n",
       "      <th>Pop Chips</th>\n",
       "      <td>0</td>\n",
       "      <td>0.00</td>\n",
       "    </tr>\n",
       "    <tr>\n",
       "      <th>Juniper</th>\n",
       "      <td>0</td>\n",
       "      <td>0.00</td>\n",
       "    </tr>\n",
       "    <tr>\n",
       "      <th>Huawei</th>\n",
       "      <td>0</td>\n",
       "      <td>0.00</td>\n",
       "    </tr>\n",
       "    <tr>\n",
       "      <th>Compaq</th>\n",
       "      <td>0</td>\n",
       "      <td>0.00</td>\n",
       "    </tr>\n",
       "    <tr>\n",
       "      <th>IBM</th>\n",
       "      <td>0</td>\n",
       "      <td>0.00</td>\n",
       "    </tr>\n",
       "    <tr>\n",
       "      <th>Burberry</th>\n",
       "      <td>0</td>\n",
       "      <td>0.00</td>\n",
       "    </tr>\n",
       "    <tr>\n",
       "      <th>Mi</th>\n",
       "      <td>0</td>\n",
       "      <td>0.00</td>\n",
       "    </tr>\n",
       "    <tr>\n",
       "      <th>LG</th>\n",
       "      <td>0</td>\n",
       "      <td>0.00</td>\n",
       "    </tr>\n",
       "    <tr>\n",
       "      <th>Dior</th>\n",
       "      <td>0</td>\n",
       "      <td>0.00</td>\n",
       "    </tr>\n",
       "    <tr>\n",
       "      <th>Scabal</th>\n",
       "      <td>0</td>\n",
       "      <td>0.00</td>\n",
       "    </tr>\n",
       "    <tr>\n",
       "      <th>Tommy Hilfiger</th>\n",
       "      <td>0</td>\n",
       "      <td>0.00</td>\n",
       "    </tr>\n",
       "    <tr>\n",
       "      <th>Hollister</th>\n",
       "      <td>0</td>\n",
       "      <td>0.00</td>\n",
       "    </tr>\n",
       "    <tr>\n",
       "      <th>Forever 21</th>\n",
       "      <td>0</td>\n",
       "      <td>0.00</td>\n",
       "    </tr>\n",
       "    <tr>\n",
       "      <th>Colavita</th>\n",
       "      <td>0</td>\n",
       "      <td>0.00</td>\n",
       "    </tr>\n",
       "    <tr>\n",
       "      <th>Microsoft</th>\n",
       "      <td>0</td>\n",
       "      <td>0.00</td>\n",
       "    </tr>\n",
       "    <tr>\n",
       "      <th>Jiffy mix</th>\n",
       "      <td>0</td>\n",
       "      <td>0.00</td>\n",
       "    </tr>\n",
       "    <tr>\n",
       "      <th>Kraft</th>\n",
       "      <td>0</td>\n",
       "      <td>0.00</td>\n",
       "    </tr>\n",
       "  </tbody>\n",
       "</table>\n",
       "</div>"
      ],
      "text/plain": [
       "                        number_missing  percent_missing\n",
       "Cust_ID                              0             0.00\n",
       "Gender                            2724             9.08\n",
       "Orders                               0             0.00\n",
       "Jordan                               0             0.00\n",
       "Gatorade                             0             0.00\n",
       "Samsung                              0             0.00\n",
       "Asus                                 0             0.00\n",
       "Udis                                 0             0.00\n",
       "Mondelez International               0             0.00\n",
       "Wrangler                             0             0.00\n",
       "Vans                                 0             0.00\n",
       "Fila                                 0             0.00\n",
       "Brooks                               0             0.00\n",
       "H&M                                  0             0.00\n",
       "Dairy Queen                          0             0.00\n",
       "Fendi                                0             0.00\n",
       "Hewlett Packard                      0             0.00\n",
       "Pladis                               0             0.00\n",
       "Asics                                0             0.00\n",
       "Siemens                              0             0.00\n",
       "J.M. Smucker                         0             0.00\n",
       "Pop Chips                            0             0.00\n",
       "Juniper                              0             0.00\n",
       "Huawei                               0             0.00\n",
       "Compaq                               0             0.00\n",
       "IBM                                  0             0.00\n",
       "Burberry                             0             0.00\n",
       "Mi                                   0             0.00\n",
       "LG                                   0             0.00\n",
       "Dior                                 0             0.00\n",
       "Scabal                               0             0.00\n",
       "Tommy Hilfiger                       0             0.00\n",
       "Hollister                            0             0.00\n",
       "Forever 21                           0             0.00\n",
       "Colavita                             0             0.00\n",
       "Microsoft                            0             0.00\n",
       "Jiffy mix                            0             0.00\n",
       "Kraft                                0             0.00"
      ]
     },
     "execution_count": 18,
     "metadata": {},
     "output_type": "execute_result"
    }
   ],
   "source": [
    "percent_missing1 = df.isnull().sum() * 100 / len(df)\n",
    "missing_value_df = pd.DataFrame({'number_missing': df.isnull().sum(),\n",
    "                                 'percent_missing': percent_missing1})\n",
    "missing_value_df"
   ]
  },
  {
   "cell_type": "code",
   "execution_count": 19,
   "id": "c48a85cd",
   "metadata": {},
   "outputs": [
    {
     "data": {
      "text/plain": [
       "<AxesSubplot:>"
      ]
     },
     "execution_count": 19,
     "metadata": {},
     "output_type": "execute_result"
    },
    {
     "data": {
      "image/png": "[encoded data removed]",
      "text/plain": [
       "<Figure size 432x288 with 2 Axes>"
      ]
     },
     "metadata": {
      "needs_background": "light"
     },
     "output_type": "display_data"
    }
   ],
   "source": [
    "sns.heatmap(df.isnull())"
   ]
  },
  {
   "cell_type": "code",
   "execution_count": 20,
   "id": "2a432087",
   "metadata": {},
   "outputs": [],
   "source": [
    "df=df.drop(['Gender','Orders','Cust_ID'],axis=1)"
   ]
  },
  {
   "cell_type": "code",
   "execution_count": 21,
   "id": "1a997913",
   "metadata": {},
   "outputs": [
    {
     "data": {
      "text/plain": [
       "(30000, 35)"
      ]
     },
     "execution_count": 21,
     "metadata": {},
     "output_type": "execute_result"
    }
   ],
   "source": [
    "df.shape"
   ]
  },
  {
   "cell_type": "code",
   "execution_count": 22,
   "id": "2d24ac9c",
   "metadata": {},
   "outputs": [],
   "source": [
    "features=df"
   ]
  },
  {
   "cell_type": "code",
   "execution_count": 23,
   "id": "6bcb6fec",
   "metadata": {},
   "outputs": [],
   "source": [
    "from sklearn.preprocessing import StandardScaler"
   ]
  },
  {
   "cell_type": "code",
   "execution_count": 24,
   "id": "03d460f2",
   "metadata": {},
   "outputs": [],
   "source": [
    "scale=StandardScaler().fit(features)\n",
    "features=scale.transform(features)"
   ]
  },
  {
   "cell_type": "code",
   "execution_count": 25,
   "id": "c1aa0921",
   "metadata": {
    "scrolled": true
   },
   "outputs": [
    {
     "data": {
      "text/html": [
       "<div>\n",
       "<style scoped>\n",
       "    .dataframe tbody tr th:only-of-type {\n",
       "        vertical-align: middle;\n",
       "    }\n",
       "\n",
       "    .dataframe tbody tr th {\n",
       "        vertical-align: top;\n",
       "    }\n",
       "\n",
       "    .dataframe thead th {\n",
       "        text-align: right;\n",
       "    }\n",
       "</style>\n",
       "<table border=\"1\" class=\"dataframe\">\n",
       "  <thead>\n",
       "    <tr style=\"text-align: right;\">\n",
       "      <th></th>\n",
       "      <th>Jordan</th>\n",
       "      <th>Gatorade</th>\n",
       "      <th>Samsung</th>\n",
       "      <th>Asus</th>\n",
       "      <th>Udis</th>\n",
       "      <th>Mondelez International</th>\n",
       "      <th>Wrangler</th>\n",
       "      <th>Vans</th>\n",
       "      <th>Fila</th>\n",
       "      <th>Brooks</th>\n",
       "      <th>...</th>\n",
       "      <th>LG</th>\n",
       "      <th>Dior</th>\n",
       "      <th>Scabal</th>\n",
       "      <th>Tommy Hilfiger</th>\n",
       "      <th>Hollister</th>\n",
       "      <th>Forever 21</th>\n",
       "      <th>Colavita</th>\n",
       "      <th>Microsoft</th>\n",
       "      <th>Jiffy mix</th>\n",
       "      <th>Kraft</th>\n",
       "    </tr>\n",
       "  </thead>\n",
       "  <tbody>\n",
       "    <tr>\n",
       "      <th>0</th>\n",
       "      <td>-0.332312</td>\n",
       "      <td>-0.357739</td>\n",
       "      <td>-0.242985</td>\n",
       "      <td>-0.21801</td>\n",
       "      <td>-0.223835</td>\n",
       "      <td>-0.265801</td>\n",
       "      <td>-0.20727</td>\n",
       "      <td>3.446412</td>\n",
       "      <td>-0.177332</td>\n",
       "      <td>-0.297352</td>\n",
       "      <td>...</td>\n",
       "      <td>-0.210814</td>\n",
       "      <td>-0.379382</td>\n",
       "      <td>-0.487923</td>\n",
       "      <td>-0.311382</td>\n",
       "      <td>-0.202593</td>\n",
       "      <td>-0.191062</td>\n",
       "      <td>-0.299706</td>\n",
       "      <td>-0.260578</td>\n",
       "      <td>-0.220486</td>\n",
       "      <td>-0.182775</td>\n",
       "    </tr>\n",
       "    <tr>\n",
       "      <th>1</th>\n",
       "      <td>-0.332312</td>\n",
       "      <td>1.059984</td>\n",
       "      <td>-0.242985</td>\n",
       "      <td>-0.21801</td>\n",
       "      <td>-0.223835</td>\n",
       "      <td>-0.265801</td>\n",
       "      <td>-0.20727</td>\n",
       "      <td>-0.203353</td>\n",
       "      <td>-0.177332</td>\n",
       "      <td>-0.297352</td>\n",
       "      <td>...</td>\n",
       "      <td>-0.210814</td>\n",
       "      <td>1.019864</td>\n",
       "      <td>-0.487923</td>\n",
       "      <td>-0.311382</td>\n",
       "      <td>-0.202593</td>\n",
       "      <td>-0.191062</td>\n",
       "      <td>-0.299706</td>\n",
       "      <td>-0.260578</td>\n",
       "      <td>-0.220486</td>\n",
       "      <td>-0.182775</td>\n",
       "    </tr>\n",
       "    <tr>\n",
       "      <th>2</th>\n",
       "      <td>-0.332312</td>\n",
       "      <td>1.059984</td>\n",
       "      <td>-0.242985</td>\n",
       "      <td>-0.21801</td>\n",
       "      <td>-0.223835</td>\n",
       "      <td>-0.265801</td>\n",
       "      <td>-0.20727</td>\n",
       "      <td>-0.203353</td>\n",
       "      <td>-0.177332</td>\n",
       "      <td>-0.297352</td>\n",
       "      <td>...</td>\n",
       "      <td>-0.210814</td>\n",
       "      <td>-0.379382</td>\n",
       "      <td>-0.487923</td>\n",
       "      <td>-0.311382</td>\n",
       "      <td>-0.202593</td>\n",
       "      <td>-0.191062</td>\n",
       "      <td>-0.299706</td>\n",
       "      <td>1.978708</td>\n",
       "      <td>-0.220486</td>\n",
       "      <td>-0.182775</td>\n",
       "    </tr>\n",
       "    <tr>\n",
       "      <th>3</th>\n",
       "      <td>-0.332312</td>\n",
       "      <td>-0.357739</td>\n",
       "      <td>-0.242985</td>\n",
       "      <td>-0.21801</td>\n",
       "      <td>-0.223835</td>\n",
       "      <td>-0.265801</td>\n",
       "      <td>-0.20727</td>\n",
       "      <td>-0.203353</td>\n",
       "      <td>-0.177332</td>\n",
       "      <td>-0.297352</td>\n",
       "      <td>...</td>\n",
       "      <td>-0.210814</td>\n",
       "      <td>-0.379382</td>\n",
       "      <td>-0.487923</td>\n",
       "      <td>-0.311382</td>\n",
       "      <td>-0.202593</td>\n",
       "      <td>-0.191062</td>\n",
       "      <td>-0.299706</td>\n",
       "      <td>-0.260578</td>\n",
       "      <td>-0.220486</td>\n",
       "      <td>-0.182775</td>\n",
       "    </tr>\n",
       "    <tr>\n",
       "      <th>4</th>\n",
       "      <td>-0.332312</td>\n",
       "      <td>-0.357739</td>\n",
       "      <td>-0.242985</td>\n",
       "      <td>-0.21801</td>\n",
       "      <td>-0.223835</td>\n",
       "      <td>-0.265801</td>\n",
       "      <td>-0.20727</td>\n",
       "      <td>-0.203353</td>\n",
       "      <td>-0.177332</td>\n",
       "      <td>-0.297352</td>\n",
       "      <td>...</td>\n",
       "      <td>-0.210814</td>\n",
       "      <td>-0.379382</td>\n",
       "      <td>2.149024</td>\n",
       "      <td>-0.311382</td>\n",
       "      <td>-0.202593</td>\n",
       "      <td>-0.191062</td>\n",
       "      <td>-0.299706</td>\n",
       "      <td>-0.260578</td>\n",
       "      <td>2.284083</td>\n",
       "      <td>2.395151</td>\n",
       "    </tr>\n",
       "  </tbody>\n",
       "</table>\n",
       "<p>5 rows × 35 columns</p>\n",
       "</div>"
      ],
      "text/plain": [
       "     Jordan  Gatorade   Samsung     Asus      Udis  Mondelez International  \\\n",
       "0 -0.332312 -0.357739 -0.242985 -0.21801 -0.223835               -0.265801   \n",
       "1 -0.332312  1.059984 -0.242985 -0.21801 -0.223835               -0.265801   \n",
       "2 -0.332312  1.059984 -0.242985 -0.21801 -0.223835               -0.265801   \n",
       "3 -0.332312 -0.357739 -0.242985 -0.21801 -0.223835               -0.265801   \n",
       "4 -0.332312 -0.357739 -0.242985 -0.21801 -0.223835               -0.265801   \n",
       "\n",
       "   Wrangler      Vans      Fila    Brooks  ...        LG      Dior    Scabal  \\\n",
       "0  -0.20727  3.446412 -0.177332 -0.297352  ... -0.210814 -0.379382 -0.487923   \n",
       "1  -0.20727 -0.203353 -0.177332 -0.297352  ... -0.210814  1.019864 -0.487923   \n",
       "2  -0.20727 -0.203353 -0.177332 -0.297352  ... -0.210814 -0.379382 -0.487923   \n",
       "3  -0.20727 -0.203353 -0.177332 -0.297352  ... -0.210814 -0.379382 -0.487923   \n",
       "4  -0.20727 -0.203353 -0.177332 -0.297352  ... -0.210814 -0.379382  2.149024   \n",
       "\n",
       "   Tommy Hilfiger  Hollister  Forever 21  Colavita  Microsoft  Jiffy mix  \\\n",
       "0       -0.311382  -0.202593   -0.191062 -0.299706  -0.260578  -0.220486   \n",
       "1       -0.311382  -0.202593   -0.191062 -0.299706  -0.260578  -0.220486   \n",
       "2       -0.311382  -0.202593   -0.191062 -0.299706   1.978708  -0.220486   \n",
       "3       -0.311382  -0.202593   -0.191062 -0.299706  -0.260578  -0.220486   \n",
       "4       -0.311382  -0.202593   -0.191062 -0.299706  -0.260578   2.284083   \n",
       "\n",
       "      Kraft  \n",
       "0 -0.182775  \n",
       "1 -0.182775  \n",
       "2 -0.182775  \n",
       "3 -0.182775  \n",
       "4  2.395151  \n",
       "\n",
       "[5 rows x 35 columns]"
      ]
     },
     "execution_count": 25,
     "metadata": {},
     "output_type": "execute_result"
    }
   ],
   "source": [
    "features_scaled=pd.DataFrame(features,columns=df.columns[0:35])\n",
    "features_scaled.head()"
   ]
  },
  {
   "cell_type": "code",
   "execution_count": 26,
   "id": "60c55b87",
   "metadata": {},
   "outputs": [],
   "source": [
    "from sklearn.metrics import silhouette_score"
   ]
  },
  {
   "cell_type": "code",
   "execution_count": 27,
   "id": "74885527",
   "metadata": {},
   "outputs": [],
   "source": [
    "from sklearn.cluster import KMeans"
   ]
  },
  {
   "cell_type": "code",
   "execution_count": 28,
   "id": "87d384e8",
   "metadata": {},
   "outputs": [
    {
     "name": "stdout",
     "output_type": "stream",
     "text": [
      "For n_clusters = 4, silhouette score is 0.28882936660509695)\n",
      "For n_clusters = 5, silhouette score is 0.2734507732644251)\n",
      "For n_clusters = 6, silhouette score is 0.21945733520583072)\n",
      "For n_clusters = 7, silhouette score is 0.2038118827349176)\n",
      "For n_clusters = 8, silhouette score is 0.19969011593383135)\n"
     ]
    }
   ],
   "source": [
    "from sklearn.cluster import KMeans\n",
    "from sklearn.metrics import silhouette_score\n",
    "# create a list for different values of K\n",
    "n_clusters = [4, 5, 6, 7, 8]\n",
    "\n",
    "# use 'for' loop to build the clusters\n",
    "# 'random_state' returns the same sample each time you run the code  \n",
    "# fit and predict on the scaled data\n",
    "# 'silhouette_score' function computes the silhouette score for each K\n",
    "for K in n_clusters :\n",
    "    cluster = KMeans (n_clusters= K, random_state= 10)\n",
    "    predict = cluster.fit_predict(features_scaled)\n",
    "    \n",
    "    score = silhouette_score(features_scaled, predict, random_state= 10)\n",
    "    print (\"For n_clusters = {}, silhouette score is {})\".format(K, score))"
   ]
  },
  {
   "cell_type": "markdown",
   "id": "043f74df",
   "metadata": {},
   "source": [
    "## Elbow method"
   ]
  },
  {
   "cell_type": "code",
   "execution_count": 30,
   "id": "fe866afa",
   "metadata": {
    "scrolled": true
   },
   "outputs": [
    {
     "data": {
      "image/png": "[encoded data removed]",
      "text/plain": [
       "<Figure size 432x288 with 1 Axes>"
      ]
     },
     "metadata": {
      "needs_background": "light"
     },
     "output_type": "display_data"
    }
   ],
   "source": [
    "from sklearn.cluster import KMeans\n",
    "wcss = []\n",
    "for i in range(1,11):\n",
    "    kmeans = KMeans(n_clusters=i, init=\"k-means++\", random_state = 42)\n",
    "    kmeans.fit(df.iloc[:,3:])\n",
    "    wcss.append(kmeans.inertia_)\n",
    "plt.grid()\n",
    "sns.lineplot(x=range(1,11), y=wcss, color=\"red\", marker =\"8\")\n",
    "plt.xlabel(\"K-Value\")\n",
    "plt.xticks(np.arange(11.5))\n",
    "plt.ylabel(\"WCSS\")\n",
    "plt.title(\"Elbow Graph\")\n",
    "plt.show()"
   ]
  },
  {
   "cell_type": "code",
   "execution_count": 31,
   "id": "aca098d6",
   "metadata": {},
   "outputs": [
    {
     "data": {
      "text/plain": [
       "KMeans(n_clusters=4, random_state=10)"
      ]
     },
     "execution_count": 31,
     "metadata": {},
     "output_type": "execute_result"
    }
   ],
   "source": [
    "model = KMeans(n_clusters= 4, random_state= 10)\n",
    "\n",
    "# fit the model\n",
    "model.fit(features_scaled)"
   ]
  },
  {
   "cell_type": "code",
   "execution_count": 32,
   "id": "ec096368",
   "metadata": {},
   "outputs": [
    {
     "data": {
      "text/html": [
       "<div>\n",
       "<style scoped>\n",
       "    .dataframe tbody tr th:only-of-type {\n",
       "        vertical-align: middle;\n",
       "    }\n",
       "\n",
       "    .dataframe tbody tr th {\n",
       "        vertical-align: top;\n",
       "    }\n",
       "\n",
       "    .dataframe thead th {\n",
       "        text-align: right;\n",
       "    }\n",
       "</style>\n",
       "<table border=\"1\" class=\"dataframe\">\n",
       "  <thead>\n",
       "    <tr style=\"text-align: right;\">\n",
       "      <th></th>\n",
       "      <th>Jordan</th>\n",
       "      <th>Gatorade</th>\n",
       "      <th>Samsung</th>\n",
       "      <th>Asus</th>\n",
       "      <th>Udis</th>\n",
       "      <th>Mondelez International</th>\n",
       "      <th>Wrangler</th>\n",
       "      <th>Vans</th>\n",
       "      <th>Fila</th>\n",
       "      <th>Brooks</th>\n",
       "      <th>...</th>\n",
       "      <th>Dior</th>\n",
       "      <th>Scabal</th>\n",
       "      <th>Tommy Hilfiger</th>\n",
       "      <th>Hollister</th>\n",
       "      <th>Forever 21</th>\n",
       "      <th>Colavita</th>\n",
       "      <th>Microsoft</th>\n",
       "      <th>Jiffy mix</th>\n",
       "      <th>Kraft</th>\n",
       "      <th>Cluster</th>\n",
       "    </tr>\n",
       "  </thead>\n",
       "  <tbody>\n",
       "    <tr>\n",
       "      <th>0</th>\n",
       "      <td>0</td>\n",
       "      <td>0</td>\n",
       "      <td>0</td>\n",
       "      <td>0</td>\n",
       "      <td>0</td>\n",
       "      <td>0</td>\n",
       "      <td>0</td>\n",
       "      <td>2</td>\n",
       "      <td>0</td>\n",
       "      <td>0</td>\n",
       "      <td>...</td>\n",
       "      <td>0</td>\n",
       "      <td>0</td>\n",
       "      <td>0</td>\n",
       "      <td>0</td>\n",
       "      <td>0</td>\n",
       "      <td>0</td>\n",
       "      <td>0</td>\n",
       "      <td>0</td>\n",
       "      <td>0</td>\n",
       "      <td>1</td>\n",
       "    </tr>\n",
       "    <tr>\n",
       "      <th>1</th>\n",
       "      <td>0</td>\n",
       "      <td>1</td>\n",
       "      <td>0</td>\n",
       "      <td>0</td>\n",
       "      <td>0</td>\n",
       "      <td>0</td>\n",
       "      <td>0</td>\n",
       "      <td>0</td>\n",
       "      <td>0</td>\n",
       "      <td>0</td>\n",
       "      <td>...</td>\n",
       "      <td>1</td>\n",
       "      <td>0</td>\n",
       "      <td>0</td>\n",
       "      <td>0</td>\n",
       "      <td>0</td>\n",
       "      <td>0</td>\n",
       "      <td>0</td>\n",
       "      <td>0</td>\n",
       "      <td>0</td>\n",
       "      <td>2</td>\n",
       "    </tr>\n",
       "    <tr>\n",
       "      <th>2</th>\n",
       "      <td>0</td>\n",
       "      <td>1</td>\n",
       "      <td>0</td>\n",
       "      <td>0</td>\n",
       "      <td>0</td>\n",
       "      <td>0</td>\n",
       "      <td>0</td>\n",
       "      <td>0</td>\n",
       "      <td>0</td>\n",
       "      <td>0</td>\n",
       "      <td>...</td>\n",
       "      <td>0</td>\n",
       "      <td>0</td>\n",
       "      <td>0</td>\n",
       "      <td>0</td>\n",
       "      <td>0</td>\n",
       "      <td>0</td>\n",
       "      <td>1</td>\n",
       "      <td>0</td>\n",
       "      <td>0</td>\n",
       "      <td>1</td>\n",
       "    </tr>\n",
       "    <tr>\n",
       "      <th>3</th>\n",
       "      <td>0</td>\n",
       "      <td>0</td>\n",
       "      <td>0</td>\n",
       "      <td>0</td>\n",
       "      <td>0</td>\n",
       "      <td>0</td>\n",
       "      <td>0</td>\n",
       "      <td>0</td>\n",
       "      <td>0</td>\n",
       "      <td>0</td>\n",
       "      <td>...</td>\n",
       "      <td>0</td>\n",
       "      <td>0</td>\n",
       "      <td>0</td>\n",
       "      <td>0</td>\n",
       "      <td>0</td>\n",
       "      <td>0</td>\n",
       "      <td>0</td>\n",
       "      <td>0</td>\n",
       "      <td>0</td>\n",
       "      <td>1</td>\n",
       "    </tr>\n",
       "    <tr>\n",
       "      <th>4</th>\n",
       "      <td>0</td>\n",
       "      <td>0</td>\n",
       "      <td>0</td>\n",
       "      <td>0</td>\n",
       "      <td>0</td>\n",
       "      <td>0</td>\n",
       "      <td>0</td>\n",
       "      <td>0</td>\n",
       "      <td>0</td>\n",
       "      <td>0</td>\n",
       "      <td>...</td>\n",
       "      <td>0</td>\n",
       "      <td>2</td>\n",
       "      <td>0</td>\n",
       "      <td>0</td>\n",
       "      <td>0</td>\n",
       "      <td>0</td>\n",
       "      <td>0</td>\n",
       "      <td>1</td>\n",
       "      <td>1</td>\n",
       "      <td>0</td>\n",
       "    </tr>\n",
       "  </tbody>\n",
       "</table>\n",
       "<p>5 rows × 36 columns</p>\n",
       "</div>"
      ],
      "text/plain": [
       "   Jordan  Gatorade  Samsung  Asus  Udis  Mondelez International  Wrangler  \\\n",
       "0       0         0        0     0     0                       0         0   \n",
       "1       0         1        0     0     0                       0         0   \n",
       "2       0         1        0     0     0                       0         0   \n",
       "3       0         0        0     0     0                       0         0   \n",
       "4       0         0        0     0     0                       0         0   \n",
       "\n",
       "   Vans  Fila  Brooks  ...  Dior  Scabal  Tommy Hilfiger  Hollister  \\\n",
       "0     2     0       0  ...     0       0               0          0   \n",
       "1     0     0       0  ...     1       0               0          0   \n",
       "2     0     0       0  ...     0       0               0          0   \n",
       "3     0     0       0  ...     0       0               0          0   \n",
       "4     0     0       0  ...     0       2               0          0   \n",
       "\n",
       "   Forever 21  Colavita  Microsoft  Jiffy mix  Kraft  Cluster  \n",
       "0           0         0          0          0      0        1  \n",
       "1           0         0          0          0      0        2  \n",
       "2           0         0          1          0      0        1  \n",
       "3           0         0          0          0      0        1  \n",
       "4           0         0          0          1      1        0  \n",
       "\n",
       "[5 rows x 36 columns]"
      ]
     },
     "execution_count": 32,
     "metadata": {},
     "output_type": "execute_result"
    }
   ],
   "source": [
    "data_output = df.copy(deep = True)\n",
    "# add a column 'Cluster' in the data giving cluster number corresponding to each observation\n",
    "data_output['Cluster'] = model.labels_\n",
    "\n",
    "# head() to display top five rows\n",
    "data_output.head()"
   ]
  },
  {
   "cell_type": "code",
   "execution_count": 33,
   "id": "d660cf0b",
   "metadata": {},
   "outputs": [
    {
     "data": {
      "text/plain": [
       "(array([0, 1, 2, 3]), array([ 1255, 22772,  5272,   701], dtype=int64))"
      ]
     },
     "execution_count": 33,
     "metadata": {},
     "output_type": "execute_result"
    }
   ],
   "source": [
    "np.unique(model.labels_, return_counts=True) "
   ]
  },
  {
   "cell_type": "code",
   "execution_count": 34,
   "id": "1ad2d809",
   "metadata": {},
   "outputs": [
    {
     "data": {
      "image/png": "[encoded data removed]",
      "text/plain": [
       "<Figure size 432x288 with 1 Axes>"
      ]
     },
     "metadata": {
      "needs_background": "light"
     },
     "output_type": "display_data"
    }
   ],
   "source": [
    "# use 'seaborn' library to plot a barplot for cluster size\n",
    "sns.countplot(data= data_output, x = 'Cluster')\n",
    "\n",
    "# set the axes and plot labels\n",
    "# set the font size using 'fontsize'\n",
    "plt.title('Cluster Sizes', fontsize = 15)\n",
    "plt.xlabel('Clusters', fontsize = 15)\n",
    "plt.ylabel('No. of Customers', fontsize = 15)\n",
    "\n",
    "# add values in the graph\n",
    "# 'x' and 'y' assigns the position to the text\n",
    "# 's' represents the text on the plot\n",
    "plt.text(x = -0.18, y =2000, s = np.unique(model.labels_, return_counts=True)[1][0])\n",
    "plt.text(x = 0.9, y =2000, s = np.unique(model.labels_, return_counts=True)[1][1])\n",
    "plt.text(x = 1.85, y =2000, s = np.unique(model.labels_, return_counts=True)[1][2])\n",
    "plt.text(x = 2.85, y =2000, s = np.unique(model.labels_, return_counts=True)[1][3])\n",
    "\n",
    "plt.show()"
   ]
  },
  {
   "cell_type": "code",
   "execution_count": 35,
   "id": "276a9c21",
   "metadata": {},
   "outputs": [],
   "source": [
    "centers = pd.DataFrame(model.cluster_centers_, columns=  data_output.columns[1:36])"
   ]
  },
  {
   "cell_type": "code",
   "execution_count": 36,
   "id": "95dced75",
   "metadata": {},
   "outputs": [
    {
     "data": {
      "text/html": [
       "<div>\n",
       "<style scoped>\n",
       "    .dataframe tbody tr th:only-of-type {\n",
       "        vertical-align: middle;\n",
       "    }\n",
       "\n",
       "    .dataframe tbody tr th {\n",
       "        vertical-align: top;\n",
       "    }\n",
       "\n",
       "    .dataframe thead th {\n",
       "        text-align: right;\n",
       "    }\n",
       "</style>\n",
       "<table border=\"1\" class=\"dataframe\">\n",
       "  <thead>\n",
       "    <tr style=\"text-align: right;\">\n",
       "      <th></th>\n",
       "      <th>Gatorade</th>\n",
       "      <th>Samsung</th>\n",
       "      <th>Asus</th>\n",
       "      <th>Udis</th>\n",
       "      <th>Mondelez International</th>\n",
       "      <th>Wrangler</th>\n",
       "      <th>Vans</th>\n",
       "      <th>Fila</th>\n",
       "      <th>Brooks</th>\n",
       "      <th>H&amp;M</th>\n",
       "      <th>...</th>\n",
       "      <th>Dior</th>\n",
       "      <th>Scabal</th>\n",
       "      <th>Tommy Hilfiger</th>\n",
       "      <th>Hollister</th>\n",
       "      <th>Forever 21</th>\n",
       "      <th>Colavita</th>\n",
       "      <th>Microsoft</th>\n",
       "      <th>Jiffy mix</th>\n",
       "      <th>Kraft</th>\n",
       "      <th>Cluster</th>\n",
       "    </tr>\n",
       "  </thead>\n",
       "  <tbody>\n",
       "    <tr>\n",
       "      <th>0</th>\n",
       "      <td>0.446911</td>\n",
       "      <td>0.464653</td>\n",
       "      <td>0.233811</td>\n",
       "      <td>0.158847</td>\n",
       "      <td>0.102969</td>\n",
       "      <td>0.253960</td>\n",
       "      <td>0.317851</td>\n",
       "      <td>0.385554</td>\n",
       "      <td>0.095476</td>\n",
       "      <td>0.808415</td>\n",
       "      <td>...</td>\n",
       "      <td>1.396351</td>\n",
       "      <td>0.631866</td>\n",
       "      <td>0.290554</td>\n",
       "      <td>1.137030</td>\n",
       "      <td>0.335733</td>\n",
       "      <td>0.417016</td>\n",
       "      <td>1.391345</td>\n",
       "      <td>0.806428</td>\n",
       "      <td>1.575620</td>\n",
       "      <td>1.922702</td>\n",
       "    </tr>\n",
       "    <tr>\n",
       "      <th>1</th>\n",
       "      <td>-0.158476</td>\n",
       "      <td>-0.157536</td>\n",
       "      <td>-0.084381</td>\n",
       "      <td>-0.116934</td>\n",
       "      <td>-0.121153</td>\n",
       "      <td>-0.087155</td>\n",
       "      <td>-0.113422</td>\n",
       "      <td>-0.076786</td>\n",
       "      <td>-0.039016</td>\n",
       "      <td>-0.123452</td>\n",
       "      <td>...</td>\n",
       "      <td>-0.088160</td>\n",
       "      <td>-0.161581</td>\n",
       "      <td>-0.191656</td>\n",
       "      <td>-0.142253</td>\n",
       "      <td>-0.148547</td>\n",
       "      <td>-0.141765</td>\n",
       "      <td>-0.076493</td>\n",
       "      <td>-0.068999</td>\n",
       "      <td>-0.079321</td>\n",
       "      <td>-0.082740</td>\n",
       "    </tr>\n",
       "    <tr>\n",
       "      <th>2</th>\n",
       "      <td>0.594856</td>\n",
       "      <td>0.569990</td>\n",
       "      <td>0.324250</td>\n",
       "      <td>0.474459</td>\n",
       "      <td>0.511302</td>\n",
       "      <td>0.314878</td>\n",
       "      <td>0.430609</td>\n",
       "      <td>0.257115</td>\n",
       "      <td>0.145073</td>\n",
       "      <td>0.358618</td>\n",
       "      <td>...</td>\n",
       "      <td>0.061868</td>\n",
       "      <td>0.565501</td>\n",
       "      <td>0.770176</td>\n",
       "      <td>0.350728</td>\n",
       "      <td>0.586942</td>\n",
       "      <td>0.535840</td>\n",
       "      <td>0.003689</td>\n",
       "      <td>0.104907</td>\n",
       "      <td>-0.020615</td>\n",
       "      <td>-0.087260</td>\n",
       "    </tr>\n",
       "    <tr>\n",
       "      <th>3</th>\n",
       "      <td>-0.116054</td>\n",
       "      <td>0.008321</td>\n",
       "      <td>-0.110823</td>\n",
       "      <td>-0.046447</td>\n",
       "      <td>-0.085908</td>\n",
       "      <td>0.013628</td>\n",
       "      <td>-0.116023</td>\n",
       "      <td>-0.125255</td>\n",
       "      <td>0.007833</td>\n",
       "      <td>-0.127840</td>\n",
       "      <td>...</td>\n",
       "      <td>-0.099359</td>\n",
       "      <td>-0.125881</td>\n",
       "      <td>-0.074137</td>\n",
       "      <td>-0.045926</td>\n",
       "      <td>-0.180266</td>\n",
       "      <td>-0.162539</td>\n",
       "      <td>-0.032771</td>\n",
       "      <td>0.010947</td>\n",
       "      <td>-0.088290</td>\n",
       "      <td>-0.098193</td>\n",
       "    </tr>\n",
       "  </tbody>\n",
       "</table>\n",
       "<p>4 rows × 35 columns</p>\n",
       "</div>"
      ],
      "text/plain": [
       "   Gatorade   Samsung      Asus      Udis  Mondelez International  Wrangler  \\\n",
       "0  0.446911  0.464653  0.233811  0.158847                0.102969  0.253960   \n",
       "1 -0.158476 -0.157536 -0.084381 -0.116934               -0.121153 -0.087155   \n",
       "2  0.594856  0.569990  0.324250  0.474459                0.511302  0.314878   \n",
       "3 -0.116054  0.008321 -0.110823 -0.046447               -0.085908  0.013628   \n",
       "\n",
       "       Vans      Fila    Brooks       H&M  ...      Dior    Scabal  \\\n",
       "0  0.317851  0.385554  0.095476  0.808415  ...  1.396351  0.631866   \n",
       "1 -0.113422 -0.076786 -0.039016 -0.123452  ... -0.088160 -0.161581   \n",
       "2  0.430609  0.257115  0.145073  0.358618  ...  0.061868  0.565501   \n",
       "3 -0.116023 -0.125255  0.007833 -0.127840  ... -0.099359 -0.125881   \n",
       "\n",
       "   Tommy Hilfiger  Hollister  Forever 21  Colavita  Microsoft  Jiffy mix  \\\n",
       "0        0.290554   1.137030    0.335733  0.417016   1.391345   0.806428   \n",
       "1       -0.191656  -0.142253   -0.148547 -0.141765  -0.076493  -0.068999   \n",
       "2        0.770176   0.350728    0.586942  0.535840   0.003689   0.104907   \n",
       "3       -0.074137  -0.045926   -0.180266 -0.162539  -0.032771   0.010947   \n",
       "\n",
       "      Kraft   Cluster  \n",
       "0  1.575620  1.922702  \n",
       "1 -0.079321 -0.082740  \n",
       "2 -0.020615 -0.087260  \n",
       "3 -0.088290 -0.098193  \n",
       "\n",
       "[4 rows x 35 columns]"
      ]
     },
     "execution_count": 36,
     "metadata": {},
     "output_type": "execute_result"
    }
   ],
   "source": [
    "centers.head()"
   ]
  },
  {
   "cell_type": "code",
   "execution_count": 37,
   "id": "ef78ef14",
   "metadata": {},
   "outputs": [],
   "source": [
    "cluster_1 = sorted(zip(list(centers.iloc[0,:]), list(centers.columns)), reverse = True)[:10]"
   ]
  },
  {
   "cell_type": "code",
   "execution_count": 38,
   "id": "cc4ffe40",
   "metadata": {},
   "outputs": [
    {
     "data": {
      "text/plain": [
       "1255"
      ]
     },
     "execution_count": 38,
     "metadata": {},
     "output_type": "execute_result"
    }
   ],
   "source": [
    "np.unique(model.labels_, return_counts=True)[1][0]"
   ]
  },
  {
   "cell_type": "code",
   "execution_count": 39,
   "id": "a08687dc",
   "metadata": {},
   "outputs": [
    {
     "data": {
      "text/plain": [
       "0        Asics\n",
       "1           Mi\n",
       "2      Cluster\n",
       "3        Fendi\n",
       "4        Kraft\n",
       "5         Dior\n",
       "6    Microsoft\n",
       "7      Juniper\n",
       "8    Pop Chips\n",
       "9    Hollister\n",
       "Name: 1, dtype: object"
      ]
     },
     "execution_count": 39,
     "metadata": {},
     "output_type": "execute_result"
    }
   ],
   "source": [
    "cluster1_var = pd.DataFrame(cluster_1)[1]\n",
    "cluster1_var"
   ]
  },
  {
   "cell_type": "code",
   "execution_count": null,
   "id": "6f04499a",
   "metadata": {},
   "outputs": [],
   "source": []
  }
 ],
 "metadata": {
  "kernelspec": {
   "display_name": "Python 3 (ipykernel)",
   "language": "python",
   "name": "python3"
  },
  "language_info": {
   "codemirror_mode": {
    "name": "ipython",
    "version": 3
   },
   "file_extension": ".py",
   "mimetype": "text/x-python",
   "name": "python",
   "nbconvert_exporter": "python",
   "pygments_lexer": "ipython3",
   "version": "3.9.7"
  }
 },
 "nbformat": 4,
 "nbformat_minor": 5
}
