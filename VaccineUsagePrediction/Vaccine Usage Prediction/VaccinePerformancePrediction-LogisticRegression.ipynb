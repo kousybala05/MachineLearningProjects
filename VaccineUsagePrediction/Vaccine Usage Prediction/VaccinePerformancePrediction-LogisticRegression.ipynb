{
 "cells": [
  {
   "cell_type": "markdown",
   "id": "5ddc3844",
   "metadata": {},
   "source": [
    "Abstract:\n",
    "Subjects receiving the same vaccine often show different levels of immune responses\n",
    "and some may even present adverse side effects to the vaccine. Systems vaccinology can\n",
    "combine omics data and machine learning techniques to obtain highly predictive\n",
    "signatures of vaccine immunogenicity and reactogenicity. Currently, several machine\n",
    "learning methods are already available to researchers with no background in\n",
    "bioinformatics."
   ]
  },
  {
   "cell_type": "markdown",
   "id": "9e8c5b19",
   "metadata": {},
   "source": [
    "### Problem Statement:\n",
    "### Predict how likely it is that the people will take an H1N1 flu vaccine using Logistic Regression.\n"
   ]
  },
  {
   "cell_type": "code",
   "execution_count": 1,
   "id": "c80ccdd6",
   "metadata": {},
   "outputs": [],
   "source": [
    "#importing packages\n",
    "\n",
    "import numpy as np\n",
    "import pandas as pd\n",
    "import seaborn as sns\n",
    "%matplotlib inline\n",
    "from matplotlib import pyplot as plt\n",
    "from sklearn.linear_model import LogisticRegression\n",
    "from sklearn.model_selection import train_test_split"
   ]
  },
  {
   "cell_type": "code",
   "execution_count": 2,
   "id": "fce4c68b",
   "metadata": {},
   "outputs": [],
   "source": [
    "#loading the dataset\n",
    "df=pd.read_csv('Dataset\\h1n1_vaccine_prediction.csv')"
   ]
  },
  {
   "cell_type": "markdown",
   "id": "1929a008",
   "metadata": {},
   "source": [
    "## data exploration"
   ]
  },
  {
   "cell_type": "code",
   "execution_count": 3,
   "id": "dab7c525",
   "metadata": {},
   "outputs": [
    {
     "data": {
      "text/plain": [
       "(26707, 34)"
      ]
     },
     "execution_count": 3,
     "metadata": {},
     "output_type": "execute_result"
    }
   ],
   "source": [
    "df.shape"
   ]
  },
  {
   "cell_type": "code",
   "execution_count": 4,
   "id": "ee5c0165",
   "metadata": {},
   "outputs": [
    {
     "data": {
      "text/html": [
       "<div>\n",
       "<style scoped>\n",
       "    .dataframe tbody tr th:only-of-type {\n",
       "        vertical-align: middle;\n",
       "    }\n",
       "\n",
       "    .dataframe tbody tr th {\n",
       "        vertical-align: top;\n",
       "    }\n",
       "\n",
       "    .dataframe thead th {\n",
       "        text-align: right;\n",
       "    }\n",
       "</style>\n",
       "<table border=\"1\" class=\"dataframe\">\n",
       "  <thead>\n",
       "    <tr style=\"text-align: right;\">\n",
       "      <th></th>\n",
       "      <th>unique_id</th>\n",
       "      <th>h1n1_worry</th>\n",
       "      <th>h1n1_awareness</th>\n",
       "      <th>antiviral_medication</th>\n",
       "      <th>contact_avoidance</th>\n",
       "      <th>bought_face_mask</th>\n",
       "      <th>wash_hands_frequently</th>\n",
       "      <th>avoid_large_gatherings</th>\n",
       "      <th>reduced_outside_home_cont</th>\n",
       "      <th>avoid_touch_face</th>\n",
       "      <th>...</th>\n",
       "      <th>race</th>\n",
       "      <th>sex</th>\n",
       "      <th>income_level</th>\n",
       "      <th>marital_status</th>\n",
       "      <th>housing_status</th>\n",
       "      <th>employment</th>\n",
       "      <th>census_msa</th>\n",
       "      <th>no_of_adults</th>\n",
       "      <th>no_of_children</th>\n",
       "      <th>h1n1_vaccine</th>\n",
       "    </tr>\n",
       "  </thead>\n",
       "  <tbody>\n",
       "    <tr>\n",
       "      <th>0</th>\n",
       "      <td>0</td>\n",
       "      <td>1.0</td>\n",
       "      <td>0.0</td>\n",
       "      <td>0.0</td>\n",
       "      <td>0.0</td>\n",
       "      <td>0.0</td>\n",
       "      <td>0.0</td>\n",
       "      <td>0.0</td>\n",
       "      <td>1.0</td>\n",
       "      <td>1.0</td>\n",
       "      <td>...</td>\n",
       "      <td>White</td>\n",
       "      <td>Female</td>\n",
       "      <td>Below Poverty</td>\n",
       "      <td>Not Married</td>\n",
       "      <td>Own</td>\n",
       "      <td>Not in Labor Force</td>\n",
       "      <td>Non-MSA</td>\n",
       "      <td>0.0</td>\n",
       "      <td>0.0</td>\n",
       "      <td>0</td>\n",
       "    </tr>\n",
       "    <tr>\n",
       "      <th>1</th>\n",
       "      <td>1</td>\n",
       "      <td>3.0</td>\n",
       "      <td>2.0</td>\n",
       "      <td>0.0</td>\n",
       "      <td>1.0</td>\n",
       "      <td>0.0</td>\n",
       "      <td>1.0</td>\n",
       "      <td>0.0</td>\n",
       "      <td>1.0</td>\n",
       "      <td>1.0</td>\n",
       "      <td>...</td>\n",
       "      <td>White</td>\n",
       "      <td>Male</td>\n",
       "      <td>Below Poverty</td>\n",
       "      <td>Not Married</td>\n",
       "      <td>Rent</td>\n",
       "      <td>Employed</td>\n",
       "      <td>MSA, Not Principle  City</td>\n",
       "      <td>0.0</td>\n",
       "      <td>0.0</td>\n",
       "      <td>0</td>\n",
       "    </tr>\n",
       "    <tr>\n",
       "      <th>2</th>\n",
       "      <td>2</td>\n",
       "      <td>1.0</td>\n",
       "      <td>1.0</td>\n",
       "      <td>0.0</td>\n",
       "      <td>1.0</td>\n",
       "      <td>0.0</td>\n",
       "      <td>0.0</td>\n",
       "      <td>0.0</td>\n",
       "      <td>0.0</td>\n",
       "      <td>0.0</td>\n",
       "      <td>...</td>\n",
       "      <td>White</td>\n",
       "      <td>Male</td>\n",
       "      <td>&lt;= $75,000, Above Poverty</td>\n",
       "      <td>Not Married</td>\n",
       "      <td>Own</td>\n",
       "      <td>Employed</td>\n",
       "      <td>MSA, Not Principle  City</td>\n",
       "      <td>2.0</td>\n",
       "      <td>0.0</td>\n",
       "      <td>0</td>\n",
       "    </tr>\n",
       "    <tr>\n",
       "      <th>3</th>\n",
       "      <td>3</td>\n",
       "      <td>1.0</td>\n",
       "      <td>1.0</td>\n",
       "      <td>0.0</td>\n",
       "      <td>1.0</td>\n",
       "      <td>0.0</td>\n",
       "      <td>1.0</td>\n",
       "      <td>1.0</td>\n",
       "      <td>0.0</td>\n",
       "      <td>0.0</td>\n",
       "      <td>...</td>\n",
       "      <td>White</td>\n",
       "      <td>Female</td>\n",
       "      <td>Below Poverty</td>\n",
       "      <td>Not Married</td>\n",
       "      <td>Rent</td>\n",
       "      <td>Not in Labor Force</td>\n",
       "      <td>MSA, Principle City</td>\n",
       "      <td>0.0</td>\n",
       "      <td>0.0</td>\n",
       "      <td>0</td>\n",
       "    </tr>\n",
       "    <tr>\n",
       "      <th>4</th>\n",
       "      <td>4</td>\n",
       "      <td>2.0</td>\n",
       "      <td>1.0</td>\n",
       "      <td>0.0</td>\n",
       "      <td>1.0</td>\n",
       "      <td>0.0</td>\n",
       "      <td>1.0</td>\n",
       "      <td>1.0</td>\n",
       "      <td>0.0</td>\n",
       "      <td>1.0</td>\n",
       "      <td>...</td>\n",
       "      <td>White</td>\n",
       "      <td>Female</td>\n",
       "      <td>&lt;= $75,000, Above Poverty</td>\n",
       "      <td>Married</td>\n",
       "      <td>Own</td>\n",
       "      <td>Employed</td>\n",
       "      <td>MSA, Not Principle  City</td>\n",
       "      <td>1.0</td>\n",
       "      <td>0.0</td>\n",
       "      <td>0</td>\n",
       "    </tr>\n",
       "  </tbody>\n",
       "</table>\n",
       "<p>5 rows × 34 columns</p>\n",
       "</div>"
      ],
      "text/plain": [
       "   unique_id  h1n1_worry  h1n1_awareness  antiviral_medication  \\\n",
       "0          0         1.0             0.0                   0.0   \n",
       "1          1         3.0             2.0                   0.0   \n",
       "2          2         1.0             1.0                   0.0   \n",
       "3          3         1.0             1.0                   0.0   \n",
       "4          4         2.0             1.0                   0.0   \n",
       "\n",
       "   contact_avoidance  bought_face_mask  wash_hands_frequently  \\\n",
       "0                0.0               0.0                    0.0   \n",
       "1                1.0               0.0                    1.0   \n",
       "2                1.0               0.0                    0.0   \n",
       "3                1.0               0.0                    1.0   \n",
       "4                1.0               0.0                    1.0   \n",
       "\n",
       "   avoid_large_gatherings  reduced_outside_home_cont  avoid_touch_face  ...  \\\n",
       "0                     0.0                        1.0               1.0  ...   \n",
       "1                     0.0                        1.0               1.0  ...   \n",
       "2                     0.0                        0.0               0.0  ...   \n",
       "3                     1.0                        0.0               0.0  ...   \n",
       "4                     1.0                        0.0               1.0  ...   \n",
       "\n",
       "    race     sex               income_level  marital_status  housing_status  \\\n",
       "0  White  Female              Below Poverty     Not Married             Own   \n",
       "1  White    Male              Below Poverty     Not Married            Rent   \n",
       "2  White    Male  <= $75,000, Above Poverty     Not Married             Own   \n",
       "3  White  Female              Below Poverty     Not Married            Rent   \n",
       "4  White  Female  <= $75,000, Above Poverty         Married             Own   \n",
       "\n",
       "           employment                census_msa  no_of_adults  no_of_children  \\\n",
       "0  Not in Labor Force                   Non-MSA           0.0             0.0   \n",
       "1            Employed  MSA, Not Principle  City           0.0             0.0   \n",
       "2            Employed  MSA, Not Principle  City           2.0             0.0   \n",
       "3  Not in Labor Force       MSA, Principle City           0.0             0.0   \n",
       "4            Employed  MSA, Not Principle  City           1.0             0.0   \n",
       "\n",
       "   h1n1_vaccine  \n",
       "0             0  \n",
       "1             0  \n",
       "2             0  \n",
       "3             0  \n",
       "4             0  \n",
       "\n",
       "[5 rows x 34 columns]"
      ]
     },
     "execution_count": 4,
     "metadata": {},
     "output_type": "execute_result"
    }
   ],
   "source": [
    "df.head()"
   ]
  },
  {
   "cell_type": "code",
   "execution_count": 5,
   "id": "4ece40dc",
   "metadata": {},
   "outputs": [
    {
     "data": {
      "text/plain": [
       "Index(['unique_id', 'h1n1_worry', 'h1n1_awareness', 'antiviral_medication',\n",
       "       'contact_avoidance', 'bought_face_mask', 'wash_hands_frequently',\n",
       "       'avoid_large_gatherings', 'reduced_outside_home_cont',\n",
       "       'avoid_touch_face', 'dr_recc_h1n1_vacc', 'dr_recc_seasonal_vacc',\n",
       "       'chronic_medic_condition', 'cont_child_undr_6_mnths',\n",
       "       'is_health_worker', 'has_health_insur', 'is_h1n1_vacc_effective',\n",
       "       'is_h1n1_risky', 'sick_from_h1n1_vacc', 'is_seas_vacc_effective',\n",
       "       'is_seas_risky', 'sick_from_seas_vacc', 'age_bracket', 'qualification',\n",
       "       'race', 'sex', 'income_level', 'marital_status', 'housing_status',\n",
       "       'employment', 'census_msa', 'no_of_adults', 'no_of_children',\n",
       "       'h1n1_vaccine'],\n",
       "      dtype='object')"
      ]
     },
     "execution_count": 5,
     "metadata": {},
     "output_type": "execute_result"
    }
   ],
   "source": [
    "df.columns"
   ]
  },
  {
   "cell_type": "code",
   "execution_count": 6,
   "id": "a15fd6b2",
   "metadata": {},
   "outputs": [
    {
     "data": {
      "text/plain": [
       "unique_id                        0\n",
       "h1n1_worry                      92\n",
       "h1n1_awareness                 116\n",
       "antiviral_medication            71\n",
       "contact_avoidance              208\n",
       "bought_face_mask                19\n",
       "wash_hands_frequently           42\n",
       "avoid_large_gatherings          87\n",
       "reduced_outside_home_cont       82\n",
       "avoid_touch_face               128\n",
       "dr_recc_h1n1_vacc             2160\n",
       "dr_recc_seasonal_vacc         2160\n",
       "chronic_medic_condition        971\n",
       "cont_child_undr_6_mnths        820\n",
       "is_health_worker               804\n",
       "has_health_insur             12274\n",
       "is_h1n1_vacc_effective         391\n",
       "is_h1n1_risky                  388\n",
       "sick_from_h1n1_vacc            395\n",
       "is_seas_vacc_effective         462\n",
       "is_seas_risky                  514\n",
       "sick_from_seas_vacc            537\n",
       "age_bracket                      0\n",
       "qualification                 1407\n",
       "race                             0\n",
       "sex                              0\n",
       "income_level                  4423\n",
       "marital_status                1408\n",
       "housing_status                2042\n",
       "employment                    1463\n",
       "census_msa                       0\n",
       "no_of_adults                   249\n",
       "no_of_children                 249\n",
       "h1n1_vaccine                     0\n",
       "dtype: int64"
      ]
     },
     "execution_count": 6,
     "metadata": {},
     "output_type": "execute_result"
    }
   ],
   "source": [
    "df.isnull().sum()"
   ]
  },
  {
   "cell_type": "code",
   "execution_count": 7,
   "id": "87e2a8be",
   "metadata": {},
   "outputs": [
    {
     "data": {
      "text/plain": [
       "array(['55 - 64 Years', '35 - 44 Years', '18 - 34 Years', '65+ Years',\n",
       "       '45 - 54 Years'], dtype=object)"
      ]
     },
     "execution_count": 7,
     "metadata": {},
     "output_type": "execute_result"
    }
   ],
   "source": [
    "df.age_bracket.unique()"
   ]
  },
  {
   "cell_type": "code",
   "execution_count": 8,
   "id": "fec408c0",
   "metadata": {},
   "outputs": [
    {
     "data": {
      "text/plain": [
       "unique_id                      int64\n",
       "h1n1_worry                   float64\n",
       "h1n1_awareness               float64\n",
       "antiviral_medication         float64\n",
       "contact_avoidance            float64\n",
       "bought_face_mask             float64\n",
       "wash_hands_frequently        float64\n",
       "avoid_large_gatherings       float64\n",
       "reduced_outside_home_cont    float64\n",
       "avoid_touch_face             float64\n",
       "dr_recc_h1n1_vacc            float64\n",
       "dr_recc_seasonal_vacc        float64\n",
       "chronic_medic_condition      float64\n",
       "cont_child_undr_6_mnths      float64\n",
       "is_health_worker             float64\n",
       "has_health_insur             float64\n",
       "is_h1n1_vacc_effective       float64\n",
       "is_h1n1_risky                float64\n",
       "sick_from_h1n1_vacc          float64\n",
       "is_seas_vacc_effective       float64\n",
       "is_seas_risky                float64\n",
       "sick_from_seas_vacc          float64\n",
       "age_bracket                   object\n",
       "qualification                 object\n",
       "race                          object\n",
       "sex                           object\n",
       "income_level                  object\n",
       "marital_status                object\n",
       "housing_status                object\n",
       "employment                    object\n",
       "census_msa                    object\n",
       "no_of_adults                 float64\n",
       "no_of_children               float64\n",
       "h1n1_vaccine                   int64\n",
       "dtype: object"
      ]
     },
     "execution_count": 8,
     "metadata": {},
     "output_type": "execute_result"
    }
   ],
   "source": [
    "df.dtypes"
   ]
  },
  {
   "cell_type": "code",
   "execution_count": 9,
   "id": "742e598a",
   "metadata": {},
   "outputs": [
    {
     "data": {
      "text/plain": [
       "array(['< 12 Years', '12 Years', 'College Graduate', 'Some College', nan],\n",
       "      dtype=object)"
      ]
     },
     "execution_count": 9,
     "metadata": {},
     "output_type": "execute_result"
    }
   ],
   "source": [
    "df.qualification.unique()"
   ]
  },
  {
   "cell_type": "code",
   "execution_count": 10,
   "id": "0713403e",
   "metadata": {},
   "outputs": [
    {
     "data": {
      "text/plain": [
       "array([ 1., nan,  0.])"
      ]
     },
     "execution_count": 10,
     "metadata": {},
     "output_type": "execute_result"
    }
   ],
   "source": [
    "df.has_health_insur.unique()"
   ]
  },
  {
   "cell_type": "code",
   "execution_count": 11,
   "id": "9268277a",
   "metadata": {
    "scrolled": true
   },
   "outputs": [
    {
     "data": {
      "text/plain": [
       "unique_id                        0\n",
       "h1n1_worry                      92\n",
       "h1n1_awareness                 116\n",
       "antiviral_medication            71\n",
       "contact_avoidance              208\n",
       "bought_face_mask                19\n",
       "wash_hands_frequently           42\n",
       "avoid_large_gatherings          87\n",
       "reduced_outside_home_cont       82\n",
       "avoid_touch_face               128\n",
       "dr_recc_h1n1_vacc             2160\n",
       "dr_recc_seasonal_vacc         2160\n",
       "chronic_medic_condition        971\n",
       "cont_child_undr_6_mnths        820\n",
       "is_health_worker               804\n",
       "has_health_insur             12274\n",
       "is_h1n1_vacc_effective         391\n",
       "is_h1n1_risky                  388\n",
       "sick_from_h1n1_vacc            395\n",
       "is_seas_vacc_effective         462\n",
       "is_seas_risky                  514\n",
       "sick_from_seas_vacc            537\n",
       "age_bracket                      0\n",
       "qualification                 1407\n",
       "race                             0\n",
       "sex                              0\n",
       "income_level                  4423\n",
       "marital_status                1408\n",
       "housing_status                2042\n",
       "employment                    1463\n",
       "census_msa                       0\n",
       "no_of_adults                   249\n",
       "no_of_children                 249\n",
       "h1n1_vaccine                     0\n",
       "dtype: int64"
      ]
     },
     "execution_count": 11,
     "metadata": {},
     "output_type": "execute_result"
    }
   ],
   "source": [
    "df.isnull().sum()"
   ]
  },
  {
   "cell_type": "code",
   "execution_count": 70,
   "id": "49f21d9d",
   "metadata": {},
   "outputs": [
    {
     "data": {
      "text/plain": [
       "<AxesSubplot:>"
      ]
     },
     "execution_count": 70,
     "metadata": {},
     "output_type": "execute_result"
    },
    {
     "data": {
      "image/png": "[encoded data removed]",
      "text/plain": [
       "<Figure size 1224x792 with 2 Axes>"
      ]
     },
     "metadata": {
      "needs_background": "light"
     },
     "output_type": "display_data"
    }
   ],
   "source": [
    "f, ax = plt.subplots(figsize=(17, 11))\n",
    "sns.heatmap(df.corr(),yticklabels=False,cmap=\"viridis\")"
   ]
  },
  {
   "cell_type": "code",
   "execution_count": 12,
   "id": "b74fd393",
   "metadata": {},
   "outputs": [],
   "source": [
    "mode1=df['h1n1_worry'].mode().values[0]"
   ]
  },
  {
   "cell_type": "code",
   "execution_count": 13,
   "id": "96bef3fb",
   "metadata": {},
   "outputs": [],
   "source": [
    "df['h1n1_worry']=df['h1n1_worry'].replace(np.nan,mode1)"
   ]
  },
  {
   "cell_type": "code",
   "execution_count": 14,
   "id": "a9330838",
   "metadata": {},
   "outputs": [],
   "source": [
    "mode2=df['h1n1_awareness'].mode().values[0]"
   ]
  },
  {
   "cell_type": "code",
   "execution_count": 15,
   "id": "c9136ed6",
   "metadata": {},
   "outputs": [],
   "source": [
    "df['h1n1_awareness']=df['h1n1_awareness'].replace(np.nan,mode2)"
   ]
  },
  {
   "cell_type": "code",
   "execution_count": 16,
   "id": "3934c111",
   "metadata": {},
   "outputs": [],
   "source": [
    "mode3=df['antiviral_medication'].mode().values[0]"
   ]
  },
  {
   "cell_type": "code",
   "execution_count": 17,
   "id": "85e43dd3",
   "metadata": {},
   "outputs": [],
   "source": [
    "df['antiviral_medication']=df['antiviral_medication'].replace(np.nan,mode3)"
   ]
  },
  {
   "cell_type": "code",
   "execution_count": 18,
   "id": "fd21eae7",
   "metadata": {},
   "outputs": [],
   "source": [
    "mode4=df['contact_avoidance'].mode().values[0]\n",
    "mode5=df['bought_face_mask'].mode().values[0]\n",
    "mode6=df['wash_hands_frequently'].mode().values[0]"
   ]
  },
  {
   "cell_type": "code",
   "execution_count": 19,
   "id": "d8028478",
   "metadata": {},
   "outputs": [],
   "source": [
    "df['contact_avoidance']=df['contact_avoidance'].replace(np.nan,mode4)\n",
    "df['bought_face_mask']=df['bought_face_mask'].replace(np.nan,mode5)\n",
    "df['wash_hands_frequently']=df['wash_hands_frequently'].replace(np.nan,mode6)"
   ]
  },
  {
   "cell_type": "code",
   "execution_count": 20,
   "id": "96050c71",
   "metadata": {},
   "outputs": [],
   "source": [
    "mode7=df['avoid_large_gatherings'].mode().values[0]\n",
    "df['avoid_large_gatherings']=df['avoid_large_gatherings'].replace(np.nan,mode7)"
   ]
  },
  {
   "cell_type": "code",
   "execution_count": 21,
   "id": "4dd4f6e5",
   "metadata": {},
   "outputs": [],
   "source": [
    "mode8=df['reduced_outside_home_cont'].mode().values[0]\n",
    "df['reduced_outside_home_cont']=df['reduced_outside_home_cont'].replace(np.nan,mode8)"
   ]
  },
  {
   "cell_type": "code",
   "execution_count": 22,
   "id": "8f0c7e17",
   "metadata": {},
   "outputs": [],
   "source": [
    "mode9=df['avoid_touch_face'].mode().values[0]\n",
    "df['avoid_touch_face']=df['avoid_touch_face'].replace(np.nan,mode9)"
   ]
  },
  {
   "cell_type": "code",
   "execution_count": 23,
   "id": "9154b8c1",
   "metadata": {},
   "outputs": [],
   "source": [
    "mode10=df['is_seas_risky'].mode().values[0]\n",
    "df['is_seas_risky']=df['is_seas_risky'].replace(np.nan,mode10)"
   ]
  },
  {
   "cell_type": "code",
   "execution_count": 24,
   "id": "b4766053",
   "metadata": {},
   "outputs": [],
   "source": [
    "mod1=df['is_h1n1_risky'].mode().values[0]\n",
    "df['is_h1n1_risky']=df['is_h1n1_risky'].replace(np.nan,mod1)"
   ]
  },
  {
   "cell_type": "code",
   "execution_count": 25,
   "id": "d0e6ed63",
   "metadata": {},
   "outputs": [],
   "source": [
    "mod2=df['is_h1n1_vacc_effective'].mode().values[0]\n",
    "df['is_h1n1_vacc_effective']=df['is_h1n1_vacc_effective'].replace(np.nan,mod2)"
   ]
  },
  {
   "cell_type": "code",
   "execution_count": 26,
   "id": "9bd8bff1",
   "metadata": {},
   "outputs": [
    {
     "data": {
      "text/plain": [
       "array(['White', 'Black', 'Other or Multiple', 'Hispanic'], dtype=object)"
      ]
     },
     "execution_count": 26,
     "metadata": {},
     "output_type": "execute_result"
    }
   ],
   "source": [
    "df.race.unique()"
   ]
  },
  {
   "cell_type": "code",
   "execution_count": 27,
   "id": "d9835bde",
   "metadata": {},
   "outputs": [],
   "source": [
    "mod3=df['cont_child_undr_6_mnths'].mode().values[0]\n",
    "df['cont_child_undr_6_mnths']=df['cont_child_undr_6_mnths'].replace(np.nan,mod3)"
   ]
  },
  {
   "cell_type": "code",
   "execution_count": 28,
   "id": "7116b18f",
   "metadata": {},
   "outputs": [],
   "source": [
    " mode = df.filter(df.columns).mode()\n",
    " cols=df.columns\n",
    " df[cols]=df[cols].fillna(df.mode().iloc[0])"
   ]
  },
  {
   "cell_type": "code",
   "execution_count": 29,
   "id": "0516cb44",
   "metadata": {},
   "outputs": [],
   "source": [
    "df1=df"
   ]
  },
  {
   "cell_type": "code",
   "execution_count": 30,
   "id": "06f84a2b",
   "metadata": {},
   "outputs": [],
   "source": [
    "correction = {\"18 - 34 Years\":1,\n",
    "             \"35 - 44 Years\":2,\n",
    "              \"45 - 54 Years\":3,\n",
    "              \"55 - 64 Years\":4,\n",
    "              \"65+ Years\":5}\n",
    "df1.age_bracket = df.age_bracket.map(correction).fillna(df.age_bracket)"
   ]
  },
  {
   "cell_type": "code",
   "execution_count": 32,
   "id": "faa44118",
   "metadata": {},
   "outputs": [
    {
     "data": {
      "text/plain": [
       "count    26707.000000\n",
       "mean         3.186131\n",
       "std          1.457320\n",
       "min          1.000000\n",
       "25%          2.000000\n",
       "50%          3.000000\n",
       "75%          5.000000\n",
       "max          5.000000\n",
       "Name: age_bracket, dtype: float64"
      ]
     },
     "execution_count": 32,
     "metadata": {},
     "output_type": "execute_result"
    }
   ],
   "source": [
    "df1.age_bracket.describe()"
   ]
  },
  {
   "cell_type": "code",
   "execution_count": 33,
   "id": "cdb58c66",
   "metadata": {},
   "outputs": [
    {
     "data": {
      "text/plain": [
       "array([4, 2, 1, 5, 3], dtype=int64)"
      ]
     },
     "execution_count": 33,
     "metadata": {},
     "output_type": "execute_result"
    }
   ],
   "source": [
    "df1.age_bracket.unique()"
   ]
  },
  {
   "cell_type": "code",
   "execution_count": 34,
   "id": "d3b6692f",
   "metadata": {},
   "outputs": [
    {
     "data": {
      "text/plain": [
       "unique_id                    0\n",
       "h1n1_worry                   0\n",
       "h1n1_awareness               0\n",
       "antiviral_medication         0\n",
       "contact_avoidance            0\n",
       "bought_face_mask             0\n",
       "wash_hands_frequently        0\n",
       "avoid_large_gatherings       0\n",
       "reduced_outside_home_cont    0\n",
       "avoid_touch_face             0\n",
       "dr_recc_h1n1_vacc            0\n",
       "dr_recc_seasonal_vacc        0\n",
       "chronic_medic_condition      0\n",
       "cont_child_undr_6_mnths      0\n",
       "is_health_worker             0\n",
       "has_health_insur             0\n",
       "is_h1n1_vacc_effective       0\n",
       "is_h1n1_risky                0\n",
       "sick_from_h1n1_vacc          0\n",
       "is_seas_vacc_effective       0\n",
       "is_seas_risky                0\n",
       "sick_from_seas_vacc          0\n",
       "age_bracket                  0\n",
       "qualification                0\n",
       "race                         0\n",
       "sex                          0\n",
       "income_level                 0\n",
       "marital_status               0\n",
       "housing_status               0\n",
       "employment                   0\n",
       "census_msa                   0\n",
       "no_of_adults                 0\n",
       "no_of_children               0\n",
       "h1n1_vaccine                 0\n",
       "dtype: int64"
      ]
     },
     "execution_count": 34,
     "metadata": {},
     "output_type": "execute_result"
    }
   ],
   "source": [
    "df1.isnull().sum()"
   ]
  },
  {
   "cell_type": "code",
   "execution_count": 35,
   "id": "9dd69e9f",
   "metadata": {},
   "outputs": [
    {
     "data": {
      "text/plain": [
       "0    5\n",
       "dtype: int64"
      ]
     },
     "execution_count": 35,
     "metadata": {},
     "output_type": "execute_result"
    }
   ],
   "source": [
    "df1.age_bracket.mode()"
   ]
  },
  {
   "cell_type": "code",
   "execution_count": 36,
   "id": "43154a12",
   "metadata": {},
   "outputs": [
    {
     "data": {
      "text/plain": [
       "unique_id                      int64\n",
       "h1n1_worry                   float64\n",
       "h1n1_awareness               float64\n",
       "antiviral_medication         float64\n",
       "contact_avoidance            float64\n",
       "bought_face_mask             float64\n",
       "wash_hands_frequently        float64\n",
       "avoid_large_gatherings       float64\n",
       "reduced_outside_home_cont    float64\n",
       "avoid_touch_face             float64\n",
       "dr_recc_h1n1_vacc            float64\n",
       "dr_recc_seasonal_vacc        float64\n",
       "chronic_medic_condition      float64\n",
       "cont_child_undr_6_mnths      float64\n",
       "is_health_worker             float64\n",
       "has_health_insur             float64\n",
       "is_h1n1_vacc_effective       float64\n",
       "is_h1n1_risky                float64\n",
       "sick_from_h1n1_vacc          float64\n",
       "is_seas_vacc_effective       float64\n",
       "is_seas_risky                float64\n",
       "sick_from_seas_vacc          float64\n",
       "age_bracket                    int64\n",
       "qualification                 object\n",
       "race                          object\n",
       "sex                           object\n",
       "income_level                  object\n",
       "marital_status                object\n",
       "housing_status                object\n",
       "employment                    object\n",
       "census_msa                    object\n",
       "no_of_adults                 float64\n",
       "no_of_children               float64\n",
       "h1n1_vaccine                   int64\n",
       "dtype: object"
      ]
     },
     "execution_count": 36,
     "metadata": {},
     "output_type": "execute_result"
    }
   ],
   "source": [
    "df1.dtypes"
   ]
  },
  {
   "cell_type": "code",
   "execution_count": 37,
   "id": "895523b9",
   "metadata": {},
   "outputs": [
    {
     "data": {
      "text/plain": [
       "array(['Below Poverty', '<= $75,000, Above Poverty', '> $75,000'],\n",
       "      dtype=object)"
      ]
     },
     "execution_count": 37,
     "metadata": {},
     "output_type": "execute_result"
    }
   ],
   "source": [
    "df1.income_level.unique()"
   ]
  },
  {
   "cell_type": "code",
   "execution_count": null,
   "id": "93313797",
   "metadata": {},
   "outputs": [],
   "source": []
  },
  {
   "cell_type": "code",
   "execution_count": 38,
   "id": "d5455779",
   "metadata": {},
   "outputs": [],
   "source": [
    "df = pd.get_dummies(df, columns=['age_bracket','qualification','race','sex','income_level','marital_status','employment','census_msa'])"
   ]
  },
  {
   "cell_type": "code",
   "execution_count": 39,
   "id": "228a0b61",
   "metadata": {
    "scrolled": true
   },
   "outputs": [
    {
     "data": {
      "text/html": [
       "<div>\n",
       "<style scoped>\n",
       "    .dataframe tbody tr th:only-of-type {\n",
       "        vertical-align: middle;\n",
       "    }\n",
       "\n",
       "    .dataframe tbody tr th {\n",
       "        vertical-align: top;\n",
       "    }\n",
       "\n",
       "    .dataframe thead th {\n",
       "        text-align: right;\n",
       "    }\n",
       "</style>\n",
       "<table border=\"1\" class=\"dataframe\">\n",
       "  <thead>\n",
       "    <tr style=\"text-align: right;\">\n",
       "      <th></th>\n",
       "      <th>unique_id</th>\n",
       "      <th>h1n1_worry</th>\n",
       "      <th>h1n1_awareness</th>\n",
       "      <th>antiviral_medication</th>\n",
       "      <th>contact_avoidance</th>\n",
       "      <th>bought_face_mask</th>\n",
       "      <th>wash_hands_frequently</th>\n",
       "      <th>avoid_large_gatherings</th>\n",
       "      <th>reduced_outside_home_cont</th>\n",
       "      <th>avoid_touch_face</th>\n",
       "      <th>...</th>\n",
       "      <th>income_level_&gt; $75,000</th>\n",
       "      <th>income_level_Below Poverty</th>\n",
       "      <th>marital_status_Married</th>\n",
       "      <th>marital_status_Not Married</th>\n",
       "      <th>employment_Employed</th>\n",
       "      <th>employment_Not in Labor Force</th>\n",
       "      <th>employment_Unemployed</th>\n",
       "      <th>census_msa_MSA, Not Principle  City</th>\n",
       "      <th>census_msa_MSA, Principle City</th>\n",
       "      <th>census_msa_Non-MSA</th>\n",
       "    </tr>\n",
       "  </thead>\n",
       "  <tbody>\n",
       "    <tr>\n",
       "      <th>0</th>\n",
       "      <td>0</td>\n",
       "      <td>1.0</td>\n",
       "      <td>0.0</td>\n",
       "      <td>0.0</td>\n",
       "      <td>0.0</td>\n",
       "      <td>0.0</td>\n",
       "      <td>0.0</td>\n",
       "      <td>0.0</td>\n",
       "      <td>1.0</td>\n",
       "      <td>1.0</td>\n",
       "      <td>...</td>\n",
       "      <td>0</td>\n",
       "      <td>1</td>\n",
       "      <td>0</td>\n",
       "      <td>1</td>\n",
       "      <td>0</td>\n",
       "      <td>1</td>\n",
       "      <td>0</td>\n",
       "      <td>0</td>\n",
       "      <td>0</td>\n",
       "      <td>1</td>\n",
       "    </tr>\n",
       "    <tr>\n",
       "      <th>1</th>\n",
       "      <td>1</td>\n",
       "      <td>3.0</td>\n",
       "      <td>2.0</td>\n",
       "      <td>0.0</td>\n",
       "      <td>1.0</td>\n",
       "      <td>0.0</td>\n",
       "      <td>1.0</td>\n",
       "      <td>0.0</td>\n",
       "      <td>1.0</td>\n",
       "      <td>1.0</td>\n",
       "      <td>...</td>\n",
       "      <td>0</td>\n",
       "      <td>1</td>\n",
       "      <td>0</td>\n",
       "      <td>1</td>\n",
       "      <td>1</td>\n",
       "      <td>0</td>\n",
       "      <td>0</td>\n",
       "      <td>1</td>\n",
       "      <td>0</td>\n",
       "      <td>0</td>\n",
       "    </tr>\n",
       "    <tr>\n",
       "      <th>2</th>\n",
       "      <td>2</td>\n",
       "      <td>1.0</td>\n",
       "      <td>1.0</td>\n",
       "      <td>0.0</td>\n",
       "      <td>1.0</td>\n",
       "      <td>0.0</td>\n",
       "      <td>0.0</td>\n",
       "      <td>0.0</td>\n",
       "      <td>0.0</td>\n",
       "      <td>0.0</td>\n",
       "      <td>...</td>\n",
       "      <td>0</td>\n",
       "      <td>0</td>\n",
       "      <td>0</td>\n",
       "      <td>1</td>\n",
       "      <td>1</td>\n",
       "      <td>0</td>\n",
       "      <td>0</td>\n",
       "      <td>1</td>\n",
       "      <td>0</td>\n",
       "      <td>0</td>\n",
       "    </tr>\n",
       "    <tr>\n",
       "      <th>3</th>\n",
       "      <td>3</td>\n",
       "      <td>1.0</td>\n",
       "      <td>1.0</td>\n",
       "      <td>0.0</td>\n",
       "      <td>1.0</td>\n",
       "      <td>0.0</td>\n",
       "      <td>1.0</td>\n",
       "      <td>1.0</td>\n",
       "      <td>0.0</td>\n",
       "      <td>0.0</td>\n",
       "      <td>...</td>\n",
       "      <td>0</td>\n",
       "      <td>1</td>\n",
       "      <td>0</td>\n",
       "      <td>1</td>\n",
       "      <td>0</td>\n",
       "      <td>1</td>\n",
       "      <td>0</td>\n",
       "      <td>0</td>\n",
       "      <td>1</td>\n",
       "      <td>0</td>\n",
       "    </tr>\n",
       "    <tr>\n",
       "      <th>4</th>\n",
       "      <td>4</td>\n",
       "      <td>2.0</td>\n",
       "      <td>1.0</td>\n",
       "      <td>0.0</td>\n",
       "      <td>1.0</td>\n",
       "      <td>0.0</td>\n",
       "      <td>1.0</td>\n",
       "      <td>1.0</td>\n",
       "      <td>0.0</td>\n",
       "      <td>1.0</td>\n",
       "      <td>...</td>\n",
       "      <td>0</td>\n",
       "      <td>0</td>\n",
       "      <td>1</td>\n",
       "      <td>0</td>\n",
       "      <td>1</td>\n",
       "      <td>0</td>\n",
       "      <td>0</td>\n",
       "      <td>1</td>\n",
       "      <td>0</td>\n",
       "      <td>0</td>\n",
       "    </tr>\n",
       "  </tbody>\n",
       "</table>\n",
       "<p>5 rows × 52 columns</p>\n",
       "</div>"
      ],
      "text/plain": [
       "   unique_id  h1n1_worry  h1n1_awareness  antiviral_medication  \\\n",
       "0          0         1.0             0.0                   0.0   \n",
       "1          1         3.0             2.0                   0.0   \n",
       "2          2         1.0             1.0                   0.0   \n",
       "3          3         1.0             1.0                   0.0   \n",
       "4          4         2.0             1.0                   0.0   \n",
       "\n",
       "   contact_avoidance  bought_face_mask  wash_hands_frequently  \\\n",
       "0                0.0               0.0                    0.0   \n",
       "1                1.0               0.0                    1.0   \n",
       "2                1.0               0.0                    0.0   \n",
       "3                1.0               0.0                    1.0   \n",
       "4                1.0               0.0                    1.0   \n",
       "\n",
       "   avoid_large_gatherings  reduced_outside_home_cont  avoid_touch_face  ...  \\\n",
       "0                     0.0                        1.0               1.0  ...   \n",
       "1                     0.0                        1.0               1.0  ...   \n",
       "2                     0.0                        0.0               0.0  ...   \n",
       "3                     1.0                        0.0               0.0  ...   \n",
       "4                     1.0                        0.0               1.0  ...   \n",
       "\n",
       "   income_level_> $75,000  income_level_Below Poverty  marital_status_Married  \\\n",
       "0                       0                           1                       0   \n",
       "1                       0                           1                       0   \n",
       "2                       0                           0                       0   \n",
       "3                       0                           1                       0   \n",
       "4                       0                           0                       1   \n",
       "\n",
       "   marital_status_Not Married  employment_Employed  \\\n",
       "0                           1                    0   \n",
       "1                           1                    1   \n",
       "2                           1                    1   \n",
       "3                           1                    0   \n",
       "4                           0                    1   \n",
       "\n",
       "   employment_Not in Labor Force  employment_Unemployed  \\\n",
       "0                              1                      0   \n",
       "1                              0                      0   \n",
       "2                              0                      0   \n",
       "3                              1                      0   \n",
       "4                              0                      0   \n",
       "\n",
       "   census_msa_MSA, Not Principle  City  census_msa_MSA, Principle City  \\\n",
       "0                                    0                               0   \n",
       "1                                    1                               0   \n",
       "2                                    1                               0   \n",
       "3                                    0                               1   \n",
       "4                                    1                               0   \n",
       "\n",
       "   census_msa_Non-MSA  \n",
       "0                   1  \n",
       "1                   0  \n",
       "2                   0  \n",
       "3                   0  \n",
       "4                   0  \n",
       "\n",
       "[5 rows x 52 columns]"
      ]
     },
     "execution_count": 39,
     "metadata": {},
     "output_type": "execute_result"
    }
   ],
   "source": [
    "df.head()"
   ]
  },
  {
   "cell_type": "code",
   "execution_count": 54,
   "id": "6b4ba7af",
   "metadata": {},
   "outputs": [
    {
     "data": {
      "text/plain": [
       "unique_id                                   int64\n",
       "h1n1_worry                                float64\n",
       "h1n1_awareness                            float64\n",
       "antiviral_medication                      float64\n",
       "contact_avoidance                         float64\n",
       "bought_face_mask                          float64\n",
       "wash_hands_frequently                     float64\n",
       "avoid_large_gatherings                    float64\n",
       "reduced_outside_home_cont                 float64\n",
       "avoid_touch_face                          float64\n",
       "dr_recc_h1n1_vacc                         float64\n",
       "dr_recc_seasonal_vacc                     float64\n",
       "chronic_medic_condition                   float64\n",
       "cont_child_undr_6_mnths                   float64\n",
       "is_health_worker                          float64\n",
       "has_health_insur                          float64\n",
       "is_h1n1_vacc_effective                    float64\n",
       "is_h1n1_risky                             float64\n",
       "sick_from_h1n1_vacc                       float64\n",
       "is_seas_vacc_effective                    float64\n",
       "is_seas_risky                             float64\n",
       "sick_from_seas_vacc                       float64\n",
       "housing_status                             object\n",
       "no_of_adults                              float64\n",
       "no_of_children                            float64\n",
       "h1n1_vaccine                                int64\n",
       "age_bracket_1                               int32\n",
       "age_bracket_2                               int32\n",
       "age_bracket_3                               int32\n",
       "age_bracket_4                               int32\n",
       "age_bracket_5                               int32\n",
       "qualification_12 Years                      int32\n",
       "qualification_< 12 Years                    int32\n",
       "qualification_College Graduate              int32\n",
       "qualification_Some College                  int32\n",
       "race_Black                                  int32\n",
       "race_Hispanic                               int32\n",
       "race_Other or Multiple                      int32\n",
       "race_White                                  int32\n",
       "sex_Female                                  int32\n",
       "sex_Male                                    int32\n",
       "income_level_<= $75,000, Above Poverty      int32\n",
       "income_level_> $75,000                      int32\n",
       "income_level_Below Poverty                  int32\n",
       "marital_status_Married                      int32\n",
       "marital_status_Not Married                  int32\n",
       "employment_Employed                         int32\n",
       "employment_Not in Labor Force               int32\n",
       "employment_Unemployed                       int32\n",
       "census_msa_MSA, Not Principle  City         int32\n",
       "census_msa_MSA, Principle City              int32\n",
       "census_msa_Non-MSA                          int32\n",
       "dtype: object"
      ]
     },
     "execution_count": 54,
     "metadata": {},
     "output_type": "execute_result"
    }
   ],
   "source": [
    "df.dtypes"
   ]
  },
  {
   "cell_type": "code",
   "execution_count": 48,
   "id": "4c866804",
   "metadata": {},
   "outputs": [
    {
     "data": {
      "text/plain": [
       "Index(['unique_id', 'h1n1_worry', 'h1n1_awareness', 'antiviral_medication',\n",
       "       'contact_avoidance', 'bought_face_mask', 'wash_hands_frequently',\n",
       "       'avoid_large_gatherings', 'reduced_outside_home_cont',\n",
       "       'avoid_touch_face', 'dr_recc_h1n1_vacc', 'dr_recc_seasonal_vacc',\n",
       "       'chronic_medic_condition', 'cont_child_undr_6_mnths',\n",
       "       'is_health_worker', 'has_health_insur', 'is_h1n1_vacc_effective',\n",
       "       'is_h1n1_risky', 'sick_from_h1n1_vacc', 'is_seas_vacc_effective',\n",
       "       'is_seas_risky', 'sick_from_seas_vacc', 'housing_status',\n",
       "       'no_of_adults', 'no_of_children', 'h1n1_vaccine', 'age_bracket_1',\n",
       "       'age_bracket_2', 'age_bracket_3', 'age_bracket_4', 'age_bracket_5',\n",
       "       'qualification_12 Years', 'qualification_< 12 Years',\n",
       "       'qualification_College Graduate', 'qualification_Some College',\n",
       "       'race_Black', 'race_Hispanic', 'race_Other or Multiple', 'race_White',\n",
       "       'sex_Female', 'sex_Male', 'income_level_<= $75,000, Above Poverty',\n",
       "       'income_level_> $75,000', 'income_level_Below Poverty',\n",
       "       'marital_status_Married', 'marital_status_Not Married',\n",
       "       'employment_Employed', 'employment_Not in Labor Force',\n",
       "       'employment_Unemployed', 'census_msa_MSA, Not Principle  City',\n",
       "       'census_msa_MSA, Principle City', 'census_msa_Non-MSA'],\n",
       "      dtype='object')"
      ]
     },
     "execution_count": 48,
     "metadata": {},
     "output_type": "execute_result"
    }
   ],
   "source": [
    "df.columns"
   ]
  },
  {
   "cell_type": "code",
   "execution_count": 52,
   "id": "c0a1ccd0",
   "metadata": {},
   "outputs": [],
   "source": [
    "cols=[ 'age_bracket_1',\n",
    "       'age_bracket_2', 'age_bracket_3', 'age_bracket_4', 'age_bracket_5',\n",
    "       'qualification_12 Years', 'qualification_< 12 Years',\n",
    "       'qualification_College Graduate', 'qualification_Some College',\n",
    "       'race_Black', 'race_Hispanic', 'race_Other or Multiple', 'race_White',\n",
    "       'sex_Female', 'sex_Male', 'income_level_<= $75,000, Above Poverty',\n",
    "       'income_level_> $75,000', 'income_level_Below Poverty',\n",
    "       'marital_status_Married', 'marital_status_Not Married',\n",
    "       'employment_Employed', 'employment_Not in Labor Force',\n",
    "       'employment_Unemployed', 'census_msa_MSA, Not Principle  City',\n",
    "       'census_msa_MSA, Principle City','census_msa_Non-MSA']"
   ]
  },
  {
   "cell_type": "code",
   "execution_count": 53,
   "id": "541273b4",
   "metadata": {},
   "outputs": [],
   "source": [
    "df[cols]=df[cols].astype(int)"
   ]
  },
  {
   "cell_type": "code",
   "execution_count": 46,
   "id": "94ee5d34",
   "metadata": {},
   "outputs": [],
   "source": [
    "df['census_msa_MSA, Principle City']=df['census_msa_MSA, Principle City'].astype(int)"
   ]
  },
  {
   "cell_type": "code",
   "execution_count": 55,
   "id": "06fbf943",
   "metadata": {},
   "outputs": [
    {
     "data": {
      "text/plain": [
       "array(['Own', 'Rent'], dtype=object)"
      ]
     },
     "execution_count": 55,
     "metadata": {},
     "output_type": "execute_result"
    }
   ],
   "source": [
    "df['housing_status'].unique()"
   ]
  },
  {
   "cell_type": "code",
   "execution_count": 57,
   "id": "800c290b",
   "metadata": {},
   "outputs": [],
   "source": [
    "df = pd.get_dummies(df, columns=['housing_status'])"
   ]
  },
  {
   "cell_type": "code",
   "execution_count": 64,
   "id": "811336a5",
   "metadata": {},
   "outputs": [
    {
     "data": {
      "text/plain": [
       "unique_id                                    AxesSubplot(0.125,0.749828;0.0596154x0.130172)\n",
       "h1n1_worry                                AxesSubplot(0.196538,0.749828;0.0596154x0.130172)\n",
       "h1n1_awareness                            AxesSubplot(0.268077,0.749828;0.0596154x0.130172)\n",
       "antiviral_medication                      AxesSubplot(0.339615,0.749828;0.0596154x0.130172)\n",
       "contact_avoidance                         AxesSubplot(0.411154,0.749828;0.0596154x0.130172)\n",
       "bought_face_mask                          AxesSubplot(0.482692,0.749828;0.0596154x0.130172)\n",
       "wash_hands_frequently                     AxesSubplot(0.554231,0.749828;0.0596154x0.130172)\n",
       "avoid_large_gatherings                    AxesSubplot(0.625769,0.749828;0.0596154x0.130172)\n",
       "reduced_outside_home_cont                 AxesSubplot(0.697308,0.749828;0.0596154x0.130172)\n",
       "avoid_touch_face                          AxesSubplot(0.768846,0.749828;0.0596154x0.130172)\n",
       "dr_recc_h1n1_vacc                         AxesSubplot(0.840385,0.749828;0.0596154x0.130172)\n",
       "dr_recc_seasonal_vacc                        AxesSubplot(0.125,0.593621;0.0596154x0.130172)\n",
       "chronic_medic_condition                   AxesSubplot(0.196538,0.593621;0.0596154x0.130172)\n",
       "cont_child_undr_6_mnths                   AxesSubplot(0.268077,0.593621;0.0596154x0.130172)\n",
       "is_health_worker                          AxesSubplot(0.339615,0.593621;0.0596154x0.130172)\n",
       "has_health_insur                          AxesSubplot(0.411154,0.593621;0.0596154x0.130172)\n",
       "is_h1n1_vacc_effective                    AxesSubplot(0.482692,0.593621;0.0596154x0.130172)\n",
       "is_h1n1_risky                             AxesSubplot(0.554231,0.593621;0.0596154x0.130172)\n",
       "sick_from_h1n1_vacc                       AxesSubplot(0.625769,0.593621;0.0596154x0.130172)\n",
       "is_seas_vacc_effective                    AxesSubplot(0.697308,0.593621;0.0596154x0.130172)\n",
       "is_seas_risky                             AxesSubplot(0.768846,0.593621;0.0596154x0.130172)\n",
       "sick_from_seas_vacc                       AxesSubplot(0.840385,0.593621;0.0596154x0.130172)\n",
       "no_of_adults                                 AxesSubplot(0.125,0.437414;0.0596154x0.130172)\n",
       "no_of_children                            AxesSubplot(0.196538,0.437414;0.0596154x0.130172)\n",
       "h1n1_vaccine                              AxesSubplot(0.268077,0.437414;0.0596154x0.130172)\n",
       "age_bracket_1                             AxesSubplot(0.339615,0.437414;0.0596154x0.130172)\n",
       "age_bracket_2                             AxesSubplot(0.411154,0.437414;0.0596154x0.130172)\n",
       "age_bracket_3                             AxesSubplot(0.482692,0.437414;0.0596154x0.130172)\n",
       "age_bracket_4                             AxesSubplot(0.554231,0.437414;0.0596154x0.130172)\n",
       "age_bracket_5                             AxesSubplot(0.625769,0.437414;0.0596154x0.130172)\n",
       "qualification_12 Years                    AxesSubplot(0.697308,0.437414;0.0596154x0.130172)\n",
       "qualification_< 12 Years                  AxesSubplot(0.768846,0.437414;0.0596154x0.130172)\n",
       "qualification_College Graduate            AxesSubplot(0.840385,0.437414;0.0596154x0.130172)\n",
       "qualification_Some College                   AxesSubplot(0.125,0.281207;0.0596154x0.130172)\n",
       "race_Black                                AxesSubplot(0.196538,0.281207;0.0596154x0.130172)\n",
       "race_Hispanic                             AxesSubplot(0.268077,0.281207;0.0596154x0.130172)\n",
       "race_Other or Multiple                    AxesSubplot(0.339615,0.281207;0.0596154x0.130172)\n",
       "race_White                                AxesSubplot(0.411154,0.281207;0.0596154x0.130172)\n",
       "sex_Female                                AxesSubplot(0.482692,0.281207;0.0596154x0.130172)\n",
       "sex_Male                                  AxesSubplot(0.554231,0.281207;0.0596154x0.130172)\n",
       "income_level_<= $75,000, Above Poverty    AxesSubplot(0.625769,0.281207;0.0596154x0.130172)\n",
       "income_level_> $75,000                    AxesSubplot(0.697308,0.281207;0.0596154x0.130172)\n",
       "income_level_Below Poverty                AxesSubplot(0.768846,0.281207;0.0596154x0.130172)\n",
       "marital_status_Married                    AxesSubplot(0.840385,0.281207;0.0596154x0.130172)\n",
       "marital_status_Not Married                      AxesSubplot(0.125,0.125;0.0596154x0.130172)\n",
       "employment_Employed                          AxesSubplot(0.196538,0.125;0.0596154x0.130172)\n",
       "employment_Not in Labor Force                AxesSubplot(0.268077,0.125;0.0596154x0.130172)\n",
       "employment_Unemployed                        AxesSubplot(0.339615,0.125;0.0596154x0.130172)\n",
       "census_msa_MSA, Not Principle  City          AxesSubplot(0.411154,0.125;0.0596154x0.130172)\n",
       "census_msa_MSA, Principle City               AxesSubplot(0.482692,0.125;0.0596154x0.130172)\n",
       "census_msa_Non-MSA                           AxesSubplot(0.554231,0.125;0.0596154x0.130172)\n",
       "housing_status_Own                           AxesSubplot(0.625769,0.125;0.0596154x0.130172)\n",
       "housing_status_Rent                          AxesSubplot(0.697308,0.125;0.0596154x0.130172)\n",
       "dtype: object"
      ]
     },
     "execution_count": 64,
     "metadata": {},
     "output_type": "execute_result"
    },
    {
     "data": {
      "image/png": "[encoded data removed]",
      "text/plain": [
       "<Figure size 1584x1296 with 55 Axes>"
      ]
     },
     "metadata": {
      "needs_background": "light"
     },
     "output_type": "display_data"
    }
   ],
   "source": [
    "df.plot(subplots=True,layout=(5,11),kind='box',figsize=(22,18))"
   ]
  },
  {
   "cell_type": "code",
   "execution_count": null,
   "id": "a63b62fa",
   "metadata": {},
   "outputs": [],
   "source": []
  },
  {
   "cell_type": "code",
   "execution_count": null,
   "id": "aa5a25d0",
   "metadata": {},
   "outputs": [],
   "source": []
  },
  {
   "cell_type": "code",
   "execution_count": null,
   "id": "a62df50c",
   "metadata": {},
   "outputs": [],
   "source": []
  },
  {
   "cell_type": "code",
   "execution_count": null,
   "id": "af356ba6",
   "metadata": {},
   "outputs": [],
   "source": []
  },
  {
   "cell_type": "code",
   "execution_count": 58,
   "id": "f961248a",
   "metadata": {},
   "outputs": [],
   "source": [
    "from sklearn.linear_model import SGDClassifier\n",
    "x=df.drop([\"h1n1_vaccine\"], axis = 1)\n",
    "y=df[\"h1n1_vaccine\"]\n",
    "x_train,x_test, y_train, y_test = train_test_split(x, y, test_size = 0.3, random_state = 0)"
   ]
  },
  {
   "cell_type": "code",
   "execution_count": 66,
   "id": "af6302b0",
   "metadata": {},
   "outputs": [],
   "source": [
    "X_train, X_test, y_train, y_test = train_test_split( x, y, test_size=0.30, random_state=0)"
   ]
  },
  {
   "cell_type": "code",
   "execution_count": 67,
   "id": "1884a49c",
   "metadata": {},
   "outputs": [
    {
     "name": "stderr",
     "output_type": "stream",
     "text": [
      "C:\\Users\\kousa\\anaconda3\\lib\\site-packages\\sklearn\\linear_model\\_logistic.py:763: ConvergenceWarning: lbfgs failed to converge (status=1):\n",
      "STOP: TOTAL NO. of ITERATIONS REACHED LIMIT.\n",
      "\n",
      "Increase the number of iterations (max_iter) or scale the data as shown in:\n",
      "    https://scikit-learn.org/stable/modules/preprocessing.html\n",
      "Please also refer to the documentation for alternative solver options:\n",
      "    https://scikit-learn.org/stable/modules/linear_model.html#logistic-regression\n",
      "  n_iter_i = _check_optimize_result(\n"
     ]
    },
    {
     "data": {
      "text/plain": [
       "LogisticRegression()"
      ]
     },
     "execution_count": 67,
     "metadata": {},
     "output_type": "execute_result"
    }
   ],
   "source": [
    "model=LogisticRegression()\n",
    "model.fit(X_train,y_train)"
   ]
  },
  {
   "cell_type": "code",
   "execution_count": 68,
   "id": "e9eee777",
   "metadata": {},
   "outputs": [
    {
     "data": {
      "text/plain": [
       "0.8206664170722576"
      ]
     },
     "execution_count": 68,
     "metadata": {},
     "output_type": "execute_result"
    }
   ],
   "source": [
    "predictions=model.predict(X_test)\n",
    "from sklearn.metrics import accuracy_score\n",
    "accuracy_score(y_test,predictions)"
   ]
  },
  {
   "cell_type": "code",
   "execution_count": null,
   "id": "f2495cde",
   "metadata": {},
   "outputs": [],
   "source": []
  }
 ],
 "metadata": {
  "kernelspec": {
   "display_name": "Python 3 (ipykernel)",
   "language": "python",
   "name": "python3"
  },
  "language_info": {
   "codemirror_mode": {
    "name": "ipython",
    "version": 3
   },
   "file_extension": ".py",
   "mimetype": "text/x-python",
   "name": "python",
   "nbconvert_exporter": "python",
   "pygments_lexer": "ipython3",
   "version": "3.9.7"
  }
 },
 "nbformat": 4,
 "nbformat_minor": 5
}
